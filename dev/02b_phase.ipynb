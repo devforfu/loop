{
 "cells": [
  {
   "cell_type": "code",
   "execution_count": null,
   "metadata": {},
   "outputs": [],
   "source": [
    "%reload_ext autoreload\n",
    "%autoreload 2"
   ]
  },
  {
   "cell_type": "code",
   "execution_count": null,
   "metadata": {},
   "outputs": [],
   "source": [
    "#export\n",
    "from collections import OrderedDict\n",
    "from typing import Tuple, Union\n",
    "\n",
    "from torch.utils.data import Dataset, DataLoader\n",
    "\n",
    "from loop.config import defaults\n",
    "from loop.utils import broadcast"
   ]
  },
  {
   "cell_type": "code",
   "execution_count": null,
   "metadata": {},
   "outputs": [],
   "source": [
    "#export\n",
    "class NamedList:\n",
    "    \"\"\"A convenience wrapper that allows to iterate over ordered dict values and\n",
    "    access its elements using numerical indicies.\n",
    "    \"\"\"\n",
    "    def __init__(self, od: OrderedDict):\n",
    "        self.od = OrderedDict(od)\n",
    "        self.names = list(self.od)\n",
    "        \n",
    "    def __iter__(self):\n",
    "        self.index = -1\n",
    "        return self\n",
    "    \n",
    "    def __next__(self):\n",
    "        self.index += 1\n",
    "        if self.index >= len(self):\n",
    "            raise StopIteration()\n",
    "        return self[self.index]\n",
    "    \n",
    "    def __len__(self): \n",
    "        return len(self.od)\n",
    "    \n",
    "    def __getitem__(self, item: Union[str, int]):\n",
    "        if isinstance(item, str):\n",
    "            return self.od[item]\n",
    "        elif isinstance(item, int):\n",
    "            return self.od[self.names[item]]\n",
    "        return TypeError(f'invalid index type: {type(item)}')"
   ]
  },
  {
   "cell_type": "code",
   "execution_count": null,
   "metadata": {},
   "outputs": [],
   "source": [
    "#export\n",
    "class Phase:\n",
    "    \"\"\"Model training loop phase.\n",
    "\n",
    "    Each model's training loop iteration could be separated into (at least) two\n",
    "    phases: training and validation. The instances of this class track metrics and \n",
    "    counters, related to the specific phase, and keep the reference to subset of \n",
    "    data, used during phase.\n",
    "    \"\"\"\n",
    "    def __init__(self, name: str, loader: DataLoader, grad: bool=True):\n",
    "        self.name = name\n",
    "        self.loader = loader\n",
    "        self.grad = grad\n",
    "        self.batch_loss = None\n",
    "        self.batch_index = 0\n",
    "        self.rolling_loss = 0\n",
    "        self.losses = []\n",
    "        self.metrics = OrderedDict()\n",
    "\n",
    "    @property\n",
    "    def last_loss(self):\n",
    "        return self.losses[-1] if self.losses else None\n",
    "\n",
    "    @property\n",
    "    def last_metrics(self):\n",
    "        metrics = OrderedDict()\n",
    "        metrics[f'{self.name}_loss'] = self.last_loss\n",
    "        for name, values in self.metrics.items():\n",
    "            metrics[f'{self.name}_{name}'] = values[-1]\n",
    "        return metrics\n",
    "\n",
    "    @property\n",
    "    def metrics_history(self):\n",
    "        metrics = OrderedDict()\n",
    "        for name, values in self.metrics.items():\n",
    "            metrics[f'{self.name}_{name}'] = values\n",
    "        return metrics\n",
    "    \n",
    "    def get_last_value(self, metric):\n",
    "        return self.last_metrics[f'{self.name}_{metric}']\n",
    "\n",
    "    def update(self, loss: float):\n",
    "        self.losses.append(loss)\n",
    "\n",
    "    def update_metric(self, name: str, value: 'scalar'):\n",
    "        if name not in self.metrics:\n",
    "            self.metrics[name] = []\n",
    "        self.metrics[name].append(value)\n",
    "        \n",
    "    @staticmethod\n",
    "    def make_train_valid(trn_ds: Dataset, val_ds: Dataset, \n",
    "                         bs: int=defaults.bs,\n",
    "                         num_workers: Union[Tuple, int]=0):\n",
    "        \"\"\"Creates two loop's phases, train and valid.\n",
    "        \n",
    "        The phases are thin wrappers on top of data loaders intended to track additional \n",
    "        information gathered during model's fitting process, like loss, performance \n",
    "        metrics, etc.\n",
    "        \"\"\"\n",
    "        trn, val = broadcast(num_workers, 2)\n",
    "        phs = OrderedDict()\n",
    "        phs['train'] = Phase('train', DataLoader(trn_ds, bs, shuffle=True, num_workers=trn))\n",
    "        phs['valid'] = Phase('valid', DataLoader(val_ds, bs, num_workers=val), grad=False)\n",
    "        return NamedList(phs)"
   ]
  },
  {
   "cell_type": "code",
   "execution_count": null,
   "metadata": {},
   "outputs": [],
   "source": [
    "nl = NamedList([\n",
    "    ('first', 1),\n",
    "    ('second', 2),\n",
    "    ('third', 3)\n",
    "])"
   ]
  },
  {
   "cell_type": "code",
   "execution_count": null,
   "metadata": {},
   "outputs": [],
   "source": [
    "assert nl[0] == nl['first']\n",
    "assert nl[1] == nl['second']\n",
    "assert nl[2] == nl['third']\n",
    "assert len(nl) == 3\n",
    "assert list(nl) == [1, 2, 3]"
   ]
  },
  {
   "cell_type": "code",
   "execution_count": null,
   "metadata": {},
   "outputs": [],
   "source": [
    "from torchvision.datasets import MNIST\n",
    "\n",
    "root = defaults.datasets/'mnist'\n",
    "trn_ds = MNIST(root, train=True)\n",
    "val_ds = MNIST(root, train=False)\n",
    "phases = Phase.make_train_valid(trn_ds, val_ds)\n",
    "\n",
    "assert len(phases) == 2\n",
    "assert phases['train'].loader is not None\n",
    "assert phases['valid'].loader is not None\n",
    "assert phases['train'].grad \n",
    "assert not phases['valid'].grad"
   ]
  },
  {
   "cell_type": "code",
   "execution_count": null,
   "metadata": {},
   "outputs": [],
   "source": []
  }
 ],
 "metadata": {
  "kernelspec": {
   "display_name": "fastai (cuda 10)",
   "language": "python",
   "name": "fastai"
  },
  "language_info": {
   "codemirror_mode": {
    "name": "ipython",
    "version": 3
   },
   "file_extension": ".py",
   "mimetype": "text/x-python",
   "name": "python",
   "nbconvert_exporter": "python",
   "pygments_lexer": "ipython3",
   "version": "3.7.1"
  },
  "toc": {
   "base_numbering": 1,
   "nav_menu": {},
   "number_sections": true,
   "sideBar": true,
   "skip_h1_title": false,
   "title_cell": "Table of Contents",
   "title_sidebar": "Contents",
   "toc_cell": false,
   "toc_position": {},
   "toc_section_display": true,
   "toc_window_display": false
  }
 },
 "nbformat": 4,
 "nbformat_minor": 2
}

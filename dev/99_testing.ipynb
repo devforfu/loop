{
 "cells": [
  {
   "cell_type": "code",
   "execution_count": null,
   "metadata": {},
   "outputs": [],
   "source": [
    "#export\n",
    "from torch.nn import functional as F\n",
    "\n",
    "from loop import callbacks as C\n",
    "from loop.config import defaults\n",
    "from loop.metrics import accuracy\n",
    "from loop.modules import TinyNet\n",
    "from loop.training import Loop"
   ]
  },
  {
   "cell_type": "code",
   "execution_count": null,
   "metadata": {},
   "outputs": [],
   "source": [
    "#export\n",
    "def get_mnist():\n",
    "    from torchvision.datasets import MNIST\n",
    "    from torchvision import transforms as T\n",
    "    \n",
    "    root = defaults.datasets/'mnist'\n",
    "\n",
    "    mnist_stats = ([0.15]*1, [0.15]*1)\n",
    "\n",
    "    trn_ds = MNIST(root, train=True, transform=T.Compose([\n",
    "        T.Resize(32),\n",
    "        T.RandomAffine(5, translate=(0.05, 0.05), scale=(0.9, 1.1)),\n",
    "        T.ToTensor(),\n",
    "        T.Normalize(*mnist_stats)\n",
    "    ]))\n",
    "    val_ds = MNIST(root, train=False, transform=T.Compose([\n",
    "        T.Resize(32),\n",
    "        T.ToTensor(),\n",
    "        T.Normalize(*mnist_stats)\n",
    "    ]))\n",
    "    \n",
    "    return trn_ds, val_ds"
   ]
  },
  {
   "cell_type": "code",
   "execution_count": null,
   "metadata": {},
   "outputs": [],
   "source": [
    "#export\n",
    "def train_classifier_with_callbacks(model, cbs, n, bs=1024):\n",
    "    loop = Loop(model, cbs=cbs, loss_fn=F.cross_entropy)\n",
    "    loop.fit_datasets(*get_mnist(), epochs=n, batch_size=bs)\n",
    "    return loop"
   ]
  }
 ],
 "metadata": {
  "kernelspec": {
   "display_name": "fastai (cuda 10)",
   "language": "python",
   "name": "fastai"
  },
  "language_info": {
   "codemirror_mode": {
    "name": "ipython",
    "version": 3
   },
   "file_extension": ".py",
   "mimetype": "text/x-python",
   "name": "python",
   "nbconvert_exporter": "python",
   "pygments_lexer": "ipython3",
   "version": "3.7.1"
  },
  "toc": {
   "base_numbering": 1,
   "nav_menu": {},
   "number_sections": true,
   "sideBar": true,
   "skip_h1_title": false,
   "title_cell": "Table of Contents",
   "title_sidebar": "Contents",
   "toc_cell": false,
   "toc_position": {},
   "toc_section_display": true,
   "toc_window_display": false
  }
 },
 "nbformat": 4,
 "nbformat_minor": 2
}

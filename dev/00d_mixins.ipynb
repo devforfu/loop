{
 "cells": [
  {
   "cell_type": "code",
   "execution_count": 1,
   "metadata": {},
   "outputs": [],
   "source": [
    "#export\n",
    "from inspect import signature\n",
    "\n",
    "from loop.utils import classname"
   ]
  },
  {
   "cell_type": "code",
   "execution_count": 2,
   "metadata": {},
   "outputs": [],
   "source": [
    "#export\n",
    "class ParametersMixin:\n",
    "    \"\"\"Adds to a class methods to set and get init keywords parameters.\n",
    "    \n",
    "    Almost entirely copied from sklearn setters/getters.\n",
    "    \"\"\"\n",
    "    def set_params(self, **kwargs):\n",
    "        available_params = set(self.get_params())\n",
    "        cls_name = classname(self)\n",
    "        for k, v in kwargs.items():\n",
    "            if k not in available_params:\n",
    "                raise ValueError(f'the property \\'{k}\\' is invalid for {cls_name} objects')\n",
    "            setattr(self, k, v)\n",
    "\n",
    "    def get_params(self) -> dict:\n",
    "        if self.__class__.__init__ is object.__init__:\n",
    "            return {}\n",
    "        init_signature = signature(self.__init__)\n",
    "        params = [p for p in init_signature.parameters.values() \n",
    "                  if p.name != 'self' and p.kind != p.VAR_KEYWORD]\n",
    "        return {p.name: getattr(self, p.name) for p in params}\n",
    "\n",
    "    def clean_params(self, params: dict) -> dict:\n",
    "        \"\"\"Removes keys from the dictionary that doesn't present in object's initializer \n",
    "        signature.\n",
    "        \"\"\"\n",
    "        keys = set(self.get_params())\n",
    "        return {k: v for k, v in params.items() if k in keys}\n",
    "    \n",
    "    def __repr__(self):\n",
    "        params = ', '.join([f'{k}={v}' for k, v in self.get_params().items()])\n",
    "        return f'<{classname(self)}: {params}>'"
   ]
  },
  {
   "cell_type": "code",
   "execution_count": 3,
   "metadata": {},
   "outputs": [
    {
     "name": "stdout",
     "output_type": "stream",
     "text": [
      "Exported: /home/ck/code/loop/dev/00a_annotations.ipynb -> loop/annotations.py\r\n",
      "Exported: /home/ck/code/loop/dev/00b_config.ipynb -> loop/config.py\r\n",
      "Exported: /home/ck/code/loop/dev/00c_utils.ipynb -> loop/utils.py\r\n",
      "Exported: /home/ck/code/loop/dev/00d_mixins.ipynb -> loop/mixins.py\r\n",
      "Exported: /home/ck/code/loop/dev/01a_callbacks.ipynb -> loop/callbacks.py\r\n",
      "Exported: /home/ck/code/loop/dev/01b_modules.ipynb -> loop/modules.py\r\n",
      "Exported: /home/ck/code/loop/dev/02a_metrics.ipynb -> loop/metrics.py\r\n",
      "Exported: /home/ck/code/loop/dev/02b_phase.ipynb -> loop/phase.py\r\n",
      "Exported: /home/ck/code/loop/dev/02c_training.ipynb -> loop/training.py\r\n",
      "Exported: /home/ck/code/loop/dev/03a_schedule.ipynb -> loop/schedule.py\r\n",
      "Exported: /home/ck/code/loop/dev/03b_early_stopping.ipynb -> loop/early_stopping.py\r\n",
      "Exported: /home/ck/code/loop/dev/99_testing.ipynb -> loop/testing.py\r\n",
      "12 notebook(s) exported into folder: loop\r\n"
     ]
    }
   ],
   "source": [
    "!python export.py -o loop"
   ]
  },
  {
   "cell_type": "code",
   "execution_count": null,
   "metadata": {},
   "outputs": [],
   "source": []
  }
 ],
 "metadata": {
  "kernelspec": {
   "display_name": "fastai (cuda 10)",
   "language": "python",
   "name": "fastai"
  },
  "language_info": {
   "codemirror_mode": {
    "name": "ipython",
    "version": 3
   },
   "file_extension": ".py",
   "mimetype": "text/x-python",
   "name": "python",
   "nbconvert_exporter": "python",
   "pygments_lexer": "ipython3",
   "version": "3.7.1"
  },
  "toc": {
   "base_numbering": 1,
   "nav_menu": {},
   "number_sections": true,
   "sideBar": true,
   "skip_h1_title": false,
   "title_cell": "Table of Contents",
   "title_sidebar": "Contents",
   "toc_cell": false,
   "toc_position": {},
   "toc_section_display": true,
   "toc_window_display": false
  }
 },
 "nbformat": 4,
 "nbformat_minor": 2
}

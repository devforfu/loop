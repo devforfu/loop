{
 "cells": [
  {
   "cell_type": "code",
   "execution_count": null,
   "metadata": {},
   "outputs": [],
   "source": [
    "#export\n",
    "from collections import OrderedDict\n",
    "import re"
   ]
  },
  {
   "cell_type": "code",
   "execution_count": null,
   "metadata": {},
   "outputs": [],
   "source": [
    "#export\n",
    "def default(x, fallback=None):\n",
    "    return x if x is not None else fallback"
   ]
  },
  {
   "cell_type": "code",
   "execution_count": null,
   "metadata": {},
   "outputs": [],
   "source": [
    "#export\n",
    "def merge_dicts(ds):\n",
    "    \"\"\"Merges a list of dictionaries into single dictionary.\n",
    "    \n",
    "    The order of dicts in the list affects the values of keys in the\n",
    "    returned dict.\n",
    "    \"\"\"\n",
    "    merged = OrderedDict()\n",
    "    for d in ds:\n",
    "        for k, v in d.items():\n",
    "            merged[k] = v\n",
    "    return merged"
   ]
  },
  {
   "cell_type": "code",
   "execution_count": null,
   "metadata": {},
   "outputs": [],
   "source": [
    "#export\n",
    "def to_snake_case(string):\n",
    "    s = re.sub('(.)([A-Z][a-z]+)', r'\\1_\\2', string)\n",
    "    return re.sub('([a-z0-9])([A-Z])', r'\\1_\\2', s).lower()"
   ]
  },
  {
   "cell_type": "code",
   "execution_count": null,
   "metadata": {},
   "outputs": [],
   "source": [
    "#export\n",
    "def pairs(seq):\n",
    "    yield from zip(seq[:-1], seq[1:])"
   ]
  },
  {
   "cell_type": "code",
   "execution_count": null,
   "metadata": {},
   "outputs": [],
   "source": [
    "#export\n",
    "def classname(x):\n",
    "    return x.__class__.__name__"
   ]
  },
  {
   "cell_type": "code",
   "execution_count": 17,
   "metadata": {},
   "outputs": [],
   "source": [
    "#export\n",
    "def to_list(obj):\n",
    "    \"\"\"Converts iterable into list or wraps a scalar value with list.\"\"\"\n",
    "    if isinstance(obj, str):\n",
    "        return [obj]\n",
    "    return list(obj) if hasattr(obj, '__len__') or hasattr(obj, '__next__') else [obj]"
   ]
  },
  {
   "cell_type": "code",
   "execution_count": 18,
   "metadata": {},
   "outputs": [],
   "source": [
    "def gen(x):\n",
    "    for i in range(x): yield i\n",
    "    \n",
    "assert to_list([1, 2, 3]) == [1, 2, 3]\n",
    "assert to_list((1, 2, 3)) == [1, 2, 3]\n",
    "assert to_list({'a': 1, 'b': 2, 'c': 3}) == ['a', 'b', 'c']\n",
    "assert to_list(1) == [1]\n",
    "assert to_list(gen(5)) == list(range(5))\n",
    "assert to_list('string') == ['string']"
   ]
  },
  {
   "cell_type": "code",
   "execution_count": null,
   "metadata": {},
   "outputs": [],
   "source": []
  }
 ],
 "metadata": {
  "kernelspec": {
   "display_name": "fastai (cuda 10)",
   "language": "python",
   "name": "fastai"
  },
  "language_info": {
   "codemirror_mode": {
    "name": "ipython",
    "version": 3
   },
   "file_extension": ".py",
   "mimetype": "text/x-python",
   "name": "python",
   "nbconvert_exporter": "python",
   "pygments_lexer": "ipython3",
   "version": "3.7.1"
  },
  "toc": {
   "base_numbering": 1,
   "nav_menu": {},
   "number_sections": true,
   "sideBar": true,
   "skip_h1_title": false,
   "title_cell": "Table of Contents",
   "title_sidebar": "Contents",
   "toc_cell": false,
   "toc_position": {},
   "toc_section_display": true,
   "toc_window_display": false
  }
 },
 "nbformat": 4,
 "nbformat_minor": 2
}

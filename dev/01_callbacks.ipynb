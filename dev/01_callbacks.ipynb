{
 "cells": [
  {
   "cell_type": "code",
   "execution_count": null,
   "metadata": {},
   "outputs": [],
   "source": [
    "#export \n",
    "from enum import IntFlag\n",
    "from operator import itemgetter"
   ]
  },
  {
   "cell_type": "code",
   "execution_count": null,
   "metadata": {},
   "outputs": [],
   "source": [
    "#export\n",
    "class Order(IntFlag):\n",
    "    Unknown = -1\n",
    "    Internal = 0\n",
    "    Loss = 10\n",
    "    Metrics = 100\n",
    "    Schedule = 200\n",
    "    History = 300\n",
    "    Logging = 1000\n",
    "    \n",
    "    def __call__(self, index=0):\n",
    "        return Order(self.value + index)\n",
    "    \n",
    "    @staticmethod\n",
    "    def sort(items):\n",
    "        ordered = [(getattr(item, 'order', Order.Unknown), item) for item in items]\n",
    "        ordered.sort(key=itemgetter(0))\n",
    "        return [item for _, item in ordered]"
   ]
  },
  {
   "cell_type": "code",
   "execution_count": null,
   "metadata": {},
   "outputs": [],
   "source": [
    "#export\n",
    "class Callback:\n",
    "    \"\"\"The base class inherited by callbacks.\n",
    "    \n",
    "    Provides a lot of hooks invoked on various stages of the training loop\n",
    "    execution. The signature of functions is as broad as possible to allow\n",
    "    flexibility and customization in descendant classes.\n",
    "    \"\"\"\n",
    "    def training_started(self, **kwargs): pass\n",
    "    def training_ended(self, **kwargs): pass\n",
    "    def epoch_started(self, **kwargs): pass\n",
    "    def epoch_ended(self, **kwargs): pass\n",
    "    def phase_started(self, **kwargs): pass\n",
    "    def phase_ended(self, **kwargs): pass\n",
    "    def batch_started(self, **kwargs): pass\n",
    "    def batch_ended(self, **kwargs): pass\n",
    "    def before_forward(self, **kwargs): pass\n",
    "    def after_forward(self, **kwargs): pass\n",
    "    def before_backward(self, **kwargs): pass\n",
    "    def after_backward(self, **kwargs): pass\n",
    "    def interrupted(self, **kwargs): pass"
   ]
  },
  {
   "cell_type": "code",
   "execution_count": null,
   "metadata": {},
   "outputs": [],
   "source": []
  }
 ],
 "metadata": {
  "kernelspec": {
   "display_name": "fastai (cuda 10)",
   "language": "python",
   "name": "fastai"
  },
  "language_info": {
   "codemirror_mode": {
    "name": "ipython",
    "version": 3
   },
   "file_extension": ".py",
   "mimetype": "text/x-python",
   "name": "python",
   "nbconvert_exporter": "python",
   "pygments_lexer": "ipython3",
   "version": "3.7.1"
  },
  "toc": {
   "base_numbering": 1,
   "nav_menu": {},
   "number_sections": true,
   "sideBar": true,
   "skip_h1_title": false,
   "title_cell": "Table of Contents",
   "title_sidebar": "Contents",
   "toc_cell": false,
   "toc_position": {},
   "toc_section_display": true,
   "toc_window_display": false
  }
 },
 "nbformat": 4,
 "nbformat_minor": 2
}

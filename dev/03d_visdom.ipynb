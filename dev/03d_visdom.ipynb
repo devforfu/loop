{
 "cells": [
  {
   "cell_type": "code",
   "execution_count": 1,
   "metadata": {},
   "outputs": [],
   "source": [
    "#export\n",
    "import os\n",
    "from collections import ChainMap\n",
    "\n",
    "from visdom import Visdom\n",
    "\n",
    "from loop.callbacks import Callback, Order"
   ]
  },
  {
   "cell_type": "code",
   "execution_count": 2,
   "metadata": {},
   "outputs": [],
   "source": [
    "#export\n",
    "class VisdomDashboard(Callback):\n",
    "    \n",
    "    order = Order.Logging()\n",
    "    \n",
    "    def __init__(self, show_opt_params: bool=False, batch_freq: int=1, **visdom_conf):\n",
    "        self.show_opt_params = show_opt_params\n",
    "        self.batch_freq = batch_freq\n",
    "        self.visdom_conf = visdom_conf\n",
    "        self.vis = None\n",
    "        \n",
    "    def training_started(self, **kwargs):\n",
    "        username = self.visdom_conf.get('username', os.environ.get('VISDOM_USERNAME'))\n",
    "        password = self.visdom_conf.get('password', os.environ.get('VISDOM_PASSWORD'))\n",
    "        server = self.visdom_conf.get('server', '0.0.0.0')\n",
    "        port = int(self.visdom_conf.get('port', 9090))\n",
    "        self.vis = Visdom(server=server, port=port, username=username, password=password)\n",
    "        \n",
    "    def batch_ended(self, phase, **kwargs):\n",
    "        x = phase.batch_index\n",
    "        \n",
    "        if phase.grad:\n",
    "            if self.show_opt_params:\n",
    "                opt = self.group.opt\n",
    "                for i, params in enumerate(opt.param_groups):\n",
    "                    title = f'LR [group: {i}]'\n",
    "                    self.vis.line(\n",
    "                        X=[x], Y=[params['lr']], win=title, name='lr',\n",
    "                        opts=dict(title=title), update='append')\n",
    "\n",
    "        if x % self.batch_freq == 0:\n",
    "            self.vis.line(\n",
    "                X=[x], Y=[phase.batch_loss], win=phase.name, name='batch_loss', \n",
    "                opts=dict(title=f'Running Batch Loss [{phase.name}]'), update='append')\n",
    "    \n",
    "    def epoch_ended(self, phases, epoch):\n",
    "        metrics = dict(ChainMap(*[phase.last_metrics for phase in phases]))\n",
    "        for name, value in metrics.items():\n",
    "            phase, metric_name = name.split('_')\n",
    "            self.vis.line(\n",
    "                X=[epoch], Y=[value], win=metric_name, name=phase,\n",
    "                opts=dict(title=metric_name), update='append')"
   ]
  },
  {
   "cell_type": "code",
   "execution_count": 3,
   "metadata": {},
   "outputs": [
    {
     "name": "stderr",
     "output_type": "stream",
     "text": [
      "Setting up a new session...\n"
     ]
    },
    {
     "name": "stdout",
     "output_type": "stream",
     "text": [
      "Epoch:    1 | train_loss=0.5493, train_acc=0.8336, valid_loss=0.4107, valid_acc=0.9042\n",
      "Epoch:    2 | train_loss=0.3587, train_acc=0.9106, valid_loss=0.3242, valid_acc=0.9258\n",
      "Epoch:    3 | train_loss=0.2733, train_acc=0.9284, valid_loss=0.2774, valid_acc=0.9389\n"
     ]
    }
   ],
   "source": [
    "import numpy as np\n",
    "from torch.nn.functional import cross_entropy\n",
    "from torch.utils.data import DataLoader\n",
    "from torch.optim import SGD\n",
    "from torch.optim.lr_scheduler import CosineAnnealingWarmRestarts\n",
    "\n",
    "from loop.callbacks import Average\n",
    "from loop.modules import fc_network\n",
    "from loop.metrics import accuracy\n",
    "from loop.schedule import ScheduleCallback\n",
    "from loop.training import Loop, Phase\n",
    "from loop.testing import get_mnist\n",
    "from loop.utils import from_torch\n",
    "\n",
    "trn_ds, val_ds = get_mnist(flat=True)\n",
    "\n",
    "phases = Phase.make_train_valid(trn_ds, val_ds, bs=1024)\n",
    "\n",
    "net = fc_network(784, [100, 10])\n",
    "\n",
    "opt = SGD(params=[\n",
    "  {'params': net[0].parameters(), 'lr': 3e-2, 'momentum': 0.98},\n",
    "  {'params': net[1].parameters(), 'lr': 1e-1, 'momentum': 0.95}\n",
    "], weight_decay=0.01)\n",
    "\n",
    "cbs = [\n",
    "    Average(accuracy, alias='acc'),\n",
    "    VisdomDashboard(batch_freq=1, show_opt_params=True),\n",
    "    ScheduleCallback(CosineAnnealingWarmRestarts(opt, T_0=len(phases['train'])))\n",
    "]\n",
    "\n",
    "loop = Loop(net, opt=opt, cbs=cbs, loss_fn=cross_entropy)\n",
    "loop.train(phases, epochs=3)"
   ]
  }
 ],
 "metadata": {
  "kernelspec": {
   "display_name": "fastai (cuda 10)",
   "language": "python",
   "name": "fastai"
  },
  "language_info": {
   "codemirror_mode": {
    "name": "ipython",
    "version": 3
   },
   "file_extension": ".py",
   "mimetype": "text/x-python",
   "name": "python",
   "nbconvert_exporter": "python",
   "pygments_lexer": "ipython3",
   "version": "3.7.3"
  },
  "toc": {
   "base_numbering": 1,
   "nav_menu": {},
   "number_sections": true,
   "sideBar": true,
   "skip_h1_title": false,
   "title_cell": "Table of Contents",
   "title_sidebar": "Contents",
   "toc_cell": false,
   "toc_position": {},
   "toc_section_display": true,
   "toc_window_display": false
  }
 },
 "nbformat": 4,
 "nbformat_minor": 2
}

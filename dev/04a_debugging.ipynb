{
 "cells": [
  {
   "cell_type": "code",
   "execution_count": 1,
   "metadata": {},
   "outputs": [],
   "source": [
    "#export \n",
    "from pathlib import Path\n",
    "\n",
    "import pandas as pd\n",
    "import psutil\n",
    "\n",
    "from loop.callbacks import Callback, Order"
   ]
  },
  {
   "cell_type": "code",
   "execution_count": 2,
   "metadata": {},
   "outputs": [],
   "source": [
    "#export\n",
    "MB = 1024 ** 2\n",
    "GB = 1024 * MB"
   ]
  },
  {
   "cell_type": "code",
   "execution_count": 3,
   "metadata": {},
   "outputs": [],
   "source": [
    "#export\n",
    "class MemoryUsage(Callback):\n",
    "    \"\"\"A debugging callback used to track the amount of CPU memory used during training.\"\"\"\n",
    "    \n",
    "    order = Order.Internal()\n",
    "    \n",
    "    def __init__(self, filename: str='memory.csv', units: int=GB):\n",
    "        self.filename = filename\n",
    "        self.units = units\n",
    "    \n",
    "    def training_started(self, **kwargs):\n",
    "        self.iter = 0\n",
    "        self._stream = self.open()\n",
    "        self.write('index,mem_percent,mem_free,mem_available,mem_used')\n",
    "        \n",
    "    def training_ended(self, **kwargs):\n",
    "        self.close()\n",
    "    \n",
    "    def batch_ended(self, **kwargs):\n",
    "        self.iter += 1\n",
    "        mem = psutil.virtual_memory()\n",
    "        record = [self.iter, mem.percent, mem.available, mem.used]\n",
    "        self.write(','.join([str(x) for x in record]))\n",
    "        \n",
    "    def plot(self, **fig_kwargs):\n",
    "        mem = pd.read_csv(self.filename)\n",
    "        index = mem.columns.str.startswith('mem')\n",
    "        mem[mem.columns[index]] /= self.units\n",
    "        f, ax = plt.subplots(2, 1, **fig_kwargs)\n",
    "        ax1, ax2 = ax.flat\n",
    "        unit_name = ('GB' if self.units == GB else \n",
    "                     'MB' if self.units == MB else \n",
    "                     '')\n",
    "        self.plot_memory_percentage(ax1, mem)\n",
    "        self.plot_memory_usage(ax2, mem, unit_name)\n",
    "        \n",
    "    @staticmethod\n",
    "    def plot_memory_percentage(ax, mem):\n",
    "        mem.plot(x='index', y='mem_percent', ax=ax)\n",
    "        ax.set_title('Memory usage during training', fontsize=20)\n",
    "        ax.set_xlabel('Batch Index', fontsize=16)\n",
    "        ax.set_ylabel('Percentage', fontsize=16)\n",
    "\n",
    "    @staticmethod\n",
    "    def plot_memory_usage(ax, mem, y_label):\n",
    "        mem.plot(x='index', y=['mem_available', 'mem_used'], ax=ax)\n",
    "        ax.set_xlabel('Batch Index', fontsize=16)\n",
    "        ax.set_ylabel(y_label, fontsize=16)\n",
    "    \n",
    "    def open(self):\n",
    "        self.close()\n",
    "        return Path(self.filename).open('w')\n",
    "        \n",
    "    def write(self, msg):\n",
    "        self._stream.write(msg + '\\n')\n",
    "        self._stream.flush()\n",
    "    \n",
    "    def close(self):\n",
    "        if hasattr(self, '_stream') and self._stream is not None:\n",
    "            self._stream.close()\n",
    "            self._stream.flush()\n",
    "            self._stream = None"
   ]
  },
  {
   "cell_type": "code",
   "execution_count": 4,
   "metadata": {},
   "outputs": [
    {
     "name": "stdout",
     "output_type": "stream",
     "text": [
      "Epoch:    1 | train_loss=-52784.4358, valid_loss=-65107.9847\n",
      "Epoch:    2 | train_loss=-228083.7342, valid_loss=-234273.1725\n",
      "Epoch:    3 | train_loss=-503976.5155, valid_loss=-510168.7209\n"
     ]
    },
    {
     "name": "stderr",
     "output_type": "stream",
     "text": [
      "Error! Training loop was interupted with un-expected exception\n",
      "--------------------------------------------------------------\n",
      "  File \"/home/ck/code/loop/dev/loop/training.py\", line 80, in train\n",
      "    self.cb.training_ended(phases=phases)\n",
      "\n",
      "  File \"/home/ck/code/loop/dev/loop/callbacks.py\", line 197, in training_ended\n",
      "    def training_ended(self, **kwargs): self('training_ended', **kwargs)\n",
      "\n",
      "  File \"/home/ck/code/loop/dev/loop/callbacks.py\", line 231, in __call__\n",
      "    method(**kwargs)\n",
      "\n",
      "  File \"<ipython-input-3-fcca88589cf8>\", line 17, in training_ended\n",
      "    self.close()\n",
      "\n",
      "  File \"<ipython-input-3-fcca88589cf8>\", line 61, in close\n",
      "    self._stream.flush()\n",
      "\n",
      "I/O operation on closed file.\n",
      "--------------------------------------------------------------\n"
     ]
    },
    {
     "ename": "NameError",
     "evalue": "name 'plt' is not defined",
     "output_type": "error",
     "traceback": [
      "\u001b[0;31m---------------------------------------------------------------------------\u001b[0m",
      "\u001b[0;31mNameError\u001b[0m                                 Traceback (most recent call last)",
      "\u001b[0;32m<ipython-input-4-b28da185f3cc>\u001b[0m in \u001b[0;36m<module>\u001b[0;34m\u001b[0m\n\u001b[1;32m     10\u001b[0m \u001b[0mloop\u001b[0m \u001b[0;34m=\u001b[0m \u001b[0mLoop\u001b[0m\u001b[0;34m(\u001b[0m\u001b[0mfc_network\u001b[0m\u001b[0;34m(\u001b[0m\u001b[0;36m784\u001b[0m\u001b[0;34m,\u001b[0m \u001b[0;34m[\u001b[0m\u001b[0;36m100\u001b[0m\u001b[0;34m,\u001b[0m \u001b[0;36m10\u001b[0m\u001b[0;34m]\u001b[0m\u001b[0;34m)\u001b[0m\u001b[0;34m,\u001b[0m \u001b[0mcbs\u001b[0m\u001b[0;34m=\u001b[0m\u001b[0;34m[\u001b[0m\u001b[0mMemoryUsage\u001b[0m\u001b[0;34m(\u001b[0m\u001b[0;34m)\u001b[0m\u001b[0;34m]\u001b[0m\u001b[0;34m)\u001b[0m\u001b[0;34m\u001b[0m\u001b[0;34m\u001b[0m\u001b[0m\n\u001b[1;32m     11\u001b[0m \u001b[0mloop\u001b[0m\u001b[0;34m.\u001b[0m\u001b[0mfit_datasets\u001b[0m\u001b[0;34m(\u001b[0m\u001b[0mtrn_ds\u001b[0m\u001b[0;34m,\u001b[0m \u001b[0mval_ds\u001b[0m\u001b[0;34m,\u001b[0m \u001b[0mepochs\u001b[0m\u001b[0;34m=\u001b[0m\u001b[0;36m3\u001b[0m\u001b[0;34m,\u001b[0m \u001b[0mbatch_size\u001b[0m\u001b[0;34m=\u001b[0m\u001b[0;36m100\u001b[0m\u001b[0;34m)\u001b[0m\u001b[0;34m\u001b[0m\u001b[0;34m\u001b[0m\u001b[0m\n\u001b[0;32m---> 12\u001b[0;31m \u001b[0mloop\u001b[0m\u001b[0;34m.\u001b[0m\u001b[0mcb\u001b[0m\u001b[0;34m[\u001b[0m\u001b[0;34m'memory_usage'\u001b[0m\u001b[0;34m]\u001b[0m\u001b[0;34m.\u001b[0m\u001b[0mplot\u001b[0m\u001b[0;34m(\u001b[0m\u001b[0;34m)\u001b[0m\u001b[0;34m\u001b[0m\u001b[0;34m\u001b[0m\u001b[0m\n\u001b[0m",
      "\u001b[0;32m<ipython-input-3-fcca88589cf8>\u001b[0m in \u001b[0;36mplot\u001b[0;34m(self, **fig_kwargs)\u001b[0m\n\u001b[1;32m     27\u001b[0m         \u001b[0mindex\u001b[0m \u001b[0;34m=\u001b[0m \u001b[0mmem\u001b[0m\u001b[0;34m.\u001b[0m\u001b[0mcolumns\u001b[0m\u001b[0;34m.\u001b[0m\u001b[0mstr\u001b[0m\u001b[0;34m.\u001b[0m\u001b[0mstartswith\u001b[0m\u001b[0;34m(\u001b[0m\u001b[0;34m'mem'\u001b[0m\u001b[0;34m)\u001b[0m\u001b[0;34m\u001b[0m\u001b[0;34m\u001b[0m\u001b[0m\n\u001b[1;32m     28\u001b[0m         \u001b[0mmem\u001b[0m\u001b[0;34m[\u001b[0m\u001b[0mmem\u001b[0m\u001b[0;34m.\u001b[0m\u001b[0mcolumns\u001b[0m\u001b[0;34m[\u001b[0m\u001b[0mindex\u001b[0m\u001b[0;34m]\u001b[0m\u001b[0;34m]\u001b[0m \u001b[0;34m/=\u001b[0m \u001b[0mself\u001b[0m\u001b[0;34m.\u001b[0m\u001b[0munits\u001b[0m\u001b[0;34m\u001b[0m\u001b[0;34m\u001b[0m\u001b[0m\n\u001b[0;32m---> 29\u001b[0;31m         \u001b[0mf\u001b[0m\u001b[0;34m,\u001b[0m \u001b[0max\u001b[0m \u001b[0;34m=\u001b[0m \u001b[0mplt\u001b[0m\u001b[0;34m.\u001b[0m\u001b[0msubplots\u001b[0m\u001b[0;34m(\u001b[0m\u001b[0;36m2\u001b[0m\u001b[0;34m,\u001b[0m \u001b[0;36m1\u001b[0m\u001b[0;34m,\u001b[0m \u001b[0;34m**\u001b[0m\u001b[0mfig_kwargs\u001b[0m\u001b[0;34m)\u001b[0m\u001b[0;34m\u001b[0m\u001b[0;34m\u001b[0m\u001b[0m\n\u001b[0m\u001b[1;32m     30\u001b[0m         \u001b[0max1\u001b[0m\u001b[0;34m,\u001b[0m \u001b[0max2\u001b[0m \u001b[0;34m=\u001b[0m \u001b[0max\u001b[0m\u001b[0;34m.\u001b[0m\u001b[0mflat\u001b[0m\u001b[0;34m\u001b[0m\u001b[0;34m\u001b[0m\u001b[0m\n\u001b[1;32m     31\u001b[0m         unit_name = ('GB' if self.units == GB else \n",
      "\u001b[0;31mNameError\u001b[0m: name 'plt' is not defined"
     ]
    }
   ],
   "source": [
    "from pathlib import Path\n",
    "\n",
    "from loop.training import Loop\n",
    "from loop.metrics import accuracy\n",
    "from loop.testing import get_mnist\n",
    "from loop.modules import fc_network\n",
    "\n",
    "\n",
    "trn_ds, val_ds = get_mnist(flat=True)\n",
    "loop = Loop(fc_network(784, [100, 10]), cbs=[MemoryUsage()])\n",
    "loop.fit_datasets(trn_ds, val_ds, epochs=3, batch_size=100)\n",
    "loop.cb['memory_usage'].plot()"
   ]
  },
  {
   "cell_type": "code",
   "execution_count": null,
   "metadata": {},
   "outputs": [],
   "source": []
  }
 ],
 "metadata": {
  "kernelspec": {
   "display_name": "Python 3",
   "language": "python",
   "name": "python3"
  },
  "language_info": {
   "codemirror_mode": {
    "name": "ipython",
    "version": 3
   },
   "file_extension": ".py",
   "mimetype": "text/x-python",
   "name": "python",
   "nbconvert_exporter": "python",
   "pygments_lexer": "ipython3",
   "version": "3.7.1"
  },
  "toc": {
   "base_numbering": 1,
   "nav_menu": {},
   "number_sections": true,
   "sideBar": true,
   "skip_h1_title": false,
   "title_cell": "Table of Contents",
   "title_sidebar": "Contents",
   "toc_cell": false,
   "toc_position": {},
   "toc_section_display": true,
   "toc_window_display": false
  }
 },
 "nbformat": 4,
 "nbformat_minor": 2
}

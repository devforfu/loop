{
 "cells": [
  {
   "cell_type": "code",
   "execution_count": 1,
   "metadata": {},
   "outputs": [
    {
     "name": "stdout",
     "output_type": "stream",
     "text": [
      "Exported: /home/ck/code/loop/dev/00a_annotations.ipynb -> loop/annotations.py\r\n",
      "Exported: /home/ck/code/loop/dev/00b_config.ipynb -> loop/config.py\r\n",
      "Exported: /home/ck/code/loop/dev/00c_utils.ipynb -> loop/utils.py\r\n",
      "Exported: /home/ck/code/loop/dev/00d_mixins.ipynb -> loop/mixins.py\r\n",
      "Exported: /home/ck/code/loop/dev/01a_callbacks.ipynb -> loop/callbacks.py\r\n",
      "Exported: /home/ck/code/loop/dev/01b_modules.ipynb -> loop/modules.py\r\n",
      "Exported: /home/ck/code/loop/dev/02a_metrics.ipynb -> loop/metrics.py\r\n",
      "Exported: /home/ck/code/loop/dev/02b_phase.ipynb -> loop/phase.py\r\n",
      "Exported: /home/ck/code/loop/dev/02c_training.ipynb -> loop/training.py\r\n",
      "Exported: /home/ck/code/loop/dev/03a_schedule.ipynb -> loop/schedule.py\r\n",
      "Exported: /home/ck/code/loop/dev/03b_early_stopping.ipynb -> loop/early_stopping.py\r\n",
      "Exported: /home/ck/code/loop/dev/99_testing.ipynb -> loop/testing.py\r\n",
      "12 notebook(s) exported into folder: loop\r\n"
     ]
    }
   ],
   "source": [
    "!python export.py -o loop"
   ]
  },
  {
   "cell_type": "code",
   "execution_count": 2,
   "metadata": {},
   "outputs": [],
   "source": [
    "%matplotlib inline\n",
    "%reload_ext autoreload\n",
    "%autoreload 2"
   ]
  },
  {
   "cell_type": "code",
   "execution_count": 3,
   "metadata": {},
   "outputs": [],
   "source": [
    "#export\n",
    "from pathlib import Path\n",
    "\n",
    "import torch\n",
    "\n",
    "from loop.callbacks import Callback, Order\n",
    "from loop.utils import autoformat\n",
    "from loop.training import raise_interruption"
   ]
  },
  {
   "cell_type": "code",
   "execution_count": 4,
   "metadata": {},
   "outputs": [],
   "source": [
    "#export\n",
    "class BestMetric(Callback):\n",
    "    \"\"\"A callback that memorizes the best value of metric.\n",
    "    \n",
    "    The class is intended to be a base class for other types of metric trackers that\n",
    "    perform some action when metric stops to improve.\n",
    "    \"\"\"\n",
    "\n",
    "    def __init__(self, phase: str='valid', metric: str='loss', better: 'callable'=min):\n",
    "        self.phase = phase\n",
    "        self.metric = metric\n",
    "        self.better = better\n",
    "        \n",
    "    @property\n",
    "    def formatted_best(self):\n",
    "        return f'{self.phase}_{self.metric}={autoformat(self.best_value)}'\n",
    "        \n",
    "    def training_started(self, **kwargs):\n",
    "        self.best_value = None\n",
    "        \n",
    "    def epoch_ended(self, phases, epoch, **kwargs):\n",
    "        new_value = phases[self.phase].get_last_value(self.metric)\n",
    "        if self.best_value is None:\n",
    "            best_value = new_value\n",
    "        else:\n",
    "            best_value = self.better(self.best_value, new_value)\n",
    "        self.best_value = best_value\n",
    "        self.improved(epoch, best_value == new_value)\n",
    "    \n",
    "    def improved(self, epoch: int, was_improved: bool):\n",
    "        \"\"\"A method invoked at the end of each epoch reporting if the metric was improved.\"\"\""
   ]
  },
  {
   "cell_type": "code",
   "execution_count": null,
   "metadata": {},
   "outputs": [],
   "source": [
    "#export\n",
    "class EarlyStopping(BestMetric):\n",
    "    \n",
    "    order = Order.Tracker(1)\n",
    "    \n",
    "    def __init__(self, patience: int=1, **kwargs):\n",
    "        super().__init__(**kwargs)\n",
    "        self.patience = patience\n",
    "    \n",
    "    def training_started(self, **kwargs):\n",
    "        super().training_started(**kwargs)\n",
    "        self.trials = 0\n",
    "        \n",
    "    def improved(self, epoch: int, was_improved: bool):\n",
    "        if was_improved:\n",
    "            self.trials = 0\n",
    "            return\n",
    "        else:\n",
    "            self.trials += 1\n",
    "            if self.trials >= self.patience:\n",
    "                msg = f'Early stopping at epoch {epoch} with {self.formatted_best}\\n'\n",
    "                raise_interruption(msg)"
   ]
  },
  {
   "cell_type": "code",
   "execution_count": null,
   "metadata": {},
   "outputs": [],
   "source": [
    "#export\n",
    "class ModelSaver(BestMetric):\n",
    "    \n",
    "    order = Order.Tracker(2)\n",
    "    \n",
    "    def __init__(self, mode: str='every', root: Path=Path.cwd(), \n",
    "                 prefix: str='model', **kwargs):\n",
    "        super().__init__(**kwargs)\n",
    "        assert mode in {'every', 'best'}\n",
    "        self.mode = mode\n",
    "        self.root = Path(root)\n",
    "        self.prefix = prefix\n",
    "        \n",
    "    def training_started(self, **kwargs):\n",
    "        super().training_started(**kwargs)\n",
    "        if not self.root.exists():\n",
    "            self.root.mkdir(parents=True)\n",
    "        self.last_saved = None\n",
    "        \n",
    "    def improved(self, epoch: int, was_improved: bool):\n",
    "        if self.mode == 'every' or was_improved:\n",
    "            fname = f'{self.prefix}__{self.formatted_best}__epoch={epoch}.pth'\n",
    "            path = self.root/fname\n",
    "            torch.save(self.group.model.state_dict(), path)\n",
    "            self.last_saved = path\n",
    "            \n",
    "    def load_last_saved_state(self, model=None):\n",
    "        if self.last_saved is None:\n",
    "            raise ValueError('nothing was saved during training')\n",
    "        model = model or self.group.model\n",
    "        if model is None:\n",
    "            raise ValueError('no model provided to restore the saved state')\n",
    "        model.load_state_dict(torch.load(self.last_saved))"
   ]
  },
  {
   "cell_type": "code",
   "execution_count": null,
   "metadata": {},
   "outputs": [
    {
     "name": "stdout",
     "output_type": "stream",
     "text": [
      "Epoch:    1 | train_loss=0.1604, train_acc=0.9200, valid_loss=0.1306, valid_acc=0.9555\n",
      "Epoch:    2 | train_loss=0.1045, train_acc=0.9641, valid_loss=0.0955, valid_acc=0.9688\n",
      "Epoch:    3 | train_loss=0.0888, train_acc=0.9746, valid_loss=0.0853, valid_acc=0.9691\n",
      "Epoch:    4 | train_loss=0.0647, train_acc=0.9802, valid_loss=0.0735, valid_acc=0.9747\n",
      "Epoch:    5 | train_loss=0.0562, train_acc=0.9832, valid_loss=0.0772, valid_acc=0.9749\n",
      "Epoch:    6 | train_loss=0.0476, train_acc=0.9860, valid_loss=0.0696, valid_acc=0.9759\n"
     ]
    }
   ],
   "source": [
    "import numpy as np\n",
    "from torch.nn.functional import cross_entropy\n",
    "from torch.utils.data import DataLoader\n",
    "\n",
    "from loop.callbacks import Average\n",
    "from loop.modules import fc_network\n",
    "from loop.metrics import accuracy\n",
    "from loop.training import Loop\n",
    "from loop.testing import get_mnist\n",
    "from loop.utils import from_torch\n",
    "\n",
    "cbs = [Average(accuracy, alias='acc'), \n",
    "       EarlyStopping(metric='acc', patience=1, better=max),\n",
    "       ModelSaver(mode='best', metric='acc', root=Path.home()/'models', better=max)]\n",
    "\n",
    "trn_ds, val_ds = get_mnist(flat=True)\n",
    "loop = Loop(fc_network(784, [100, 10]), cbs=cbs, loss_fn=cross_entropy)\n",
    "loop.fit_datasets(trn_ds, val_ds, epochs=10000, batch_size=100)\n",
    "\n",
    "loop.cb['history'].plot()\n",
    "loop.cb['model_saver'].load_last_saved_state()\n",
    "loop.model.eval()\n",
    "\n",
    "result, actual = [], []\n",
    "for x_val, y_val in DataLoader(val_ds, shuffle=False, batch_size=1024):\n",
    "    y_hat = loop.model(x_val.to(loop.device))\n",
    "    result += from_torch(y_hat).argmax(axis=1).tolist()\n",
    "    actual += from_torch(y_val).tolist()\n",
    "\n",
    "result = np.array(result)\n",
    "actual = np.array(actual)\n",
    "print(f'Validation accuracy: {(result == actual).mean():2.2%}')"
   ]
  },
  {
   "cell_type": "code",
   "execution_count": null,
   "metadata": {},
   "outputs": [],
   "source": []
  }
 ],
 "metadata": {
  "kernelspec": {
   "display_name": "fastai (cuda 10)",
   "language": "python",
   "name": "fastai"
  },
  "language_info": {
   "codemirror_mode": {
    "name": "ipython",
    "version": 3
   },
   "file_extension": ".py",
   "mimetype": "text/x-python",
   "name": "python",
   "nbconvert_exporter": "python",
   "pygments_lexer": "ipython3",
   "version": "3.7.1"
  },
  "toc": {
   "base_numbering": 1,
   "nav_menu": {},
   "number_sections": true,
   "sideBar": true,
   "skip_h1_title": false,
   "title_cell": "Table of Contents",
   "title_sidebar": "Contents",
   "toc_cell": false,
   "toc_position": {},
   "toc_section_display": true,
   "toc_window_display": false
  }
 },
 "nbformat": 4,
 "nbformat_minor": 2
}

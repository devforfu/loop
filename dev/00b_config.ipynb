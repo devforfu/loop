{
 "cells": [
  {
   "cell_type": "code",
   "execution_count": null,
   "metadata": {},
   "outputs": [],
   "source": [
    "#export\n",
    "from pathlib import Path\n",
    "from multiprocessing import cpu_count\n",
    "\n",
    "import torch\n",
    "from torch.nn import functional as F\n",
    "\n",
    "from loop.annotations import Loss"
   ]
  },
  {
   "cell_type": "code",
   "execution_count": null,
   "metadata": {},
   "outputs": [],
   "source": [
    "#export\n",
    "class Config:\n",
    "\n",
    "    @property\n",
    "    def batch_size(self) -> int: return 4\n",
    "    \n",
    "    @property\n",
    "    def bs(self) -> int: return self.batch_size\n",
    "\n",
    "    @property\n",
    "    def cpu(self) -> torch.device: return torch.device('cpu')\n",
    "\n",
    "    @property\n",
    "    def gpu_index(self) -> int: return 0\n",
    "    \n",
    "    @property\n",
    "    def gpu(self) -> torch.device: return torch.device(f'cuda:{self.gpu_index}')\n",
    "    \n",
    "    @property\n",
    "    def device(self) -> torch.device: return self.gpu\n",
    "    \n",
    "    @property\n",
    "    def datasets(self) -> Path: return Path.home()/'data'\n",
    "    \n",
    "    @property\n",
    "    def loss_function(self) -> Loss: return F.nll_loss\n",
    "    \n",
    "    @property\n",
    "    def loss_fn(self) -> Loss: return self.loss_function\n",
    "    \n",
    "    @property\n",
    "    def num_workers(self) -> int: return cpu_count()\n",
    "    \n",
    "    @property\n",
    "    def n_jobs(self) -> int: return self.num_workers"
   ]
  },
  {
   "cell_type": "code",
   "execution_count": null,
   "metadata": {},
   "outputs": [],
   "source": [
    "#export\n",
    "defaults = Config()"
   ]
  }
 ],
 "metadata": {
  "kernelspec": {
   "display_name": "fastai (cuda 10)",
   "language": "python",
   "name": "fastai"
  },
  "language_info": {
   "codemirror_mode": {
    "name": "ipython",
    "version": 3
   },
   "file_extension": ".py",
   "mimetype": "text/x-python",
   "name": "python",
   "nbconvert_exporter": "python",
   "pygments_lexer": "ipython3",
   "version": "3.7.1"
  },
  "toc": {
   "base_numbering": 1,
   "nav_menu": {},
   "number_sections": true,
   "sideBar": true,
   "skip_h1_title": false,
   "title_cell": "Table of Contents",
   "title_sidebar": "Contents",
   "toc_cell": false,
   "toc_position": {},
   "toc_section_display": true,
   "toc_window_display": false
  }
 },
 "nbformat": 4,
 "nbformat_minor": 2
}

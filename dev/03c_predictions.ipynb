{
 "cells": [
  {
   "cell_type": "code",
   "execution_count": 2,
   "metadata": {},
   "outputs": [
    {
     "name": "stdout",
     "output_type": "stream",
     "text": [
      "Exported: /home/ck/code/loop/dev/00a_annotations.ipynb -> loop/annotations.py\r\n",
      "Exported: /home/ck/code/loop/dev/00b_config.ipynb -> loop/config.py\r\n",
      "Exported: /home/ck/code/loop/dev/00c_utils.ipynb -> loop/utils.py\r\n",
      "Exported: /home/ck/code/loop/dev/00d_mixins.ipynb -> loop/mixins.py\r\n",
      "Exported: /home/ck/code/loop/dev/01a_callbacks.ipynb -> loop/callbacks.py\r\n",
      "Exported: /home/ck/code/loop/dev/01b_modules.ipynb -> loop/modules.py\r\n",
      "Exported: /home/ck/code/loop/dev/02a_metrics.ipynb -> loop/metrics.py\r\n",
      "Exported: /home/ck/code/loop/dev/02b_phase.ipynb -> loop/phase.py\r\n",
      "Exported: /home/ck/code/loop/dev/02c_training.ipynb -> loop/training.py\r\n",
      "Exported: /home/ck/code/loop/dev/03a_schedule.ipynb -> loop/schedule.py\r\n",
      "Exported: /home/ck/code/loop/dev/03b_early_stopping.ipynb -> loop/early_stopping.py\r\n",
      "Exported: /home/ck/code/loop/dev/03c_predictions.ipynb -> loop/predictions.py\r\n",
      "Exported: /home/ck/code/loop/dev/99_testing.ipynb -> loop/testing.py\r\n",
      "13 notebook(s) exported into folder: loop\r\n"
     ]
    }
   ],
   "source": [
    "!python export.py -o loop"
   ]
  },
  {
   "cell_type": "code",
   "execution_count": 3,
   "metadata": {},
   "outputs": [],
   "source": [
    "%matplotlib inline\n",
    "%reload_ext autoreload\n",
    "%autoreload 2"
   ]
  },
  {
   "cell_type": "code",
   "execution_count": 5,
   "metadata": {},
   "outputs": [],
   "source": [
    "import numpy as np\n",
    "from torch.utils.data import Dataset, DataLoader\n",
    "\n",
    "from loop.config import defaults\n",
    "from loop.utils import from_torch"
   ]
  },
  {
   "cell_type": "code",
   "execution_count": null,
   "metadata": {},
   "outputs": [],
   "source": [
    "class Predictor:\n",
    "    \"\"\"Wraps \"\"\"\n",
    "    \n",
    "    def __init__(self, model, device, batch_size: int=defaults.bs):\n",
    "        model.to(device)\n",
    "        self.model = model\n",
    "        self.device = device\n",
    "        self.batch_size = batch_size\n",
    "        \n",
    "    def predict_dataset(self, ds: Dataset):\n",
    "        dl = DataLoader(ds, shuffle=False, batch_size=self.batch_size)\n",
    "        result, actual = [], []\n",
    "        for xb, yb in dl:\n",
    "            y_hat = self.model(xb.to(self.device))\n",
    "            result += from_torch(y_hat).tolist()\n",
    "            actual += from_torch(y_val).tolist()\n",
    "        result = np.array(result)\n",
    "        actual = np.array(actual)\n",
    "        return result, actual\n",
    "    \n",
    "    def _predict(self, dl: DataLoader, score_fn: 'callable'=None):\n",
    "        preds, scores = [], []\n",
    "        for xb, yb in dl:\n",
    "            y_hat = self.model(xb.to(self.device))\n",
    "            if score_fn:\n",
    "                score = score_fn(y_hat, yb)\n",
    "                scores.append(score)\n",
    "            preds.append(from_torch(y_hat))\n",
    "        preds = np.row_stack(preds)\n",
    "        return preds, np.array(scores)"
   ]
  }
 ],
 "metadata": {
  "kernelspec": {
   "display_name": "fastai (cuda 10)",
   "language": "python",
   "name": "fastai"
  },
  "language_info": {
   "codemirror_mode": {
    "name": "ipython",
    "version": 3
   },
   "file_extension": ".py",
   "mimetype": "text/x-python",
   "name": "python",
   "nbconvert_exporter": "python",
   "pygments_lexer": "ipython3",
   "version": "3.7.1"
  },
  "toc": {
   "base_numbering": 1,
   "nav_menu": {},
   "number_sections": true,
   "sideBar": true,
   "skip_h1_title": false,
   "title_cell": "Table of Contents",
   "title_sidebar": "Contents",
   "toc_cell": false,
   "toc_position": {},
   "toc_section_display": true,
   "toc_window_display": false
  }
 },
 "nbformat": 4,
 "nbformat_minor": 2
}

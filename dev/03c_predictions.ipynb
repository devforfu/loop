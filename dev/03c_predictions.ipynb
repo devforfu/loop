{
 "cells": [
  {
   "cell_type": "code",
   "execution_count": 1,
   "metadata": {},
   "outputs": [
    {
     "name": "stdout",
     "output_type": "stream",
     "text": [
      "Exported: /home/ck/code/loop/dev/00a_annotations.ipynb -> loop/annotations.py\r\n",
      "Exported: /home/ck/code/loop/dev/00b_config.ipynb -> loop/config.py\r\n",
      "Exported: /home/ck/code/loop/dev/00c_utils.ipynb -> loop/utils.py\r\n",
      "Exported: /home/ck/code/loop/dev/00d_mixins.ipynb -> loop/mixins.py\r\n",
      "Exported: /home/ck/code/loop/dev/01a_callbacks.ipynb -> loop/callbacks.py\r\n",
      "Exported: /home/ck/code/loop/dev/01b_modules.ipynb -> loop/modules.py\r\n",
      "Exported: /home/ck/code/loop/dev/02a_metrics.ipynb -> loop/metrics.py\r\n",
      "Exported: /home/ck/code/loop/dev/02b_phase.ipynb -> loop/phase.py\r\n",
      "Exported: /home/ck/code/loop/dev/02c_training.ipynb -> loop/training.py\r\n",
      "Exported: /home/ck/code/loop/dev/03a_schedule.ipynb -> loop/schedule.py\r\n",
      "Exported: /home/ck/code/loop/dev/03b_early_stopping.ipynb -> loop/early_stopping.py\r\n",
      "Exported: /home/ck/code/loop/dev/03c_predictions.ipynb -> loop/predictions.py\r\n",
      "Exported: /home/ck/code/loop/dev/99_testing.ipynb -> loop/testing.py\r\n",
      "13 notebook(s) exported into folder: loop\r\n"
     ]
    }
   ],
   "source": [
    "!python export.py -o loop"
   ]
  },
  {
   "cell_type": "code",
   "execution_count": 2,
   "metadata": {},
   "outputs": [],
   "source": [
    "%matplotlib inline\n",
    "%reload_ext autoreload\n",
    "%autoreload 2"
   ]
  },
  {
   "cell_type": "code",
   "execution_count": 3,
   "metadata": {},
   "outputs": [],
   "source": [
    "#export\n",
    "import matplotlib.pyplot as plt\n",
    "import numpy as np\n",
    "import torch\n",
    "from torch.utils.data import Dataset, DataLoader, TensorDataset, Subset\n",
    "from torch.utils.data.dataloader import default_collate\n",
    "\n",
    "from loop.config import defaults\n",
    "from loop.training import Loop\n",
    "from loop.utils import from_torch"
   ]
  },
  {
   "cell_type": "code",
   "execution_count": 4,
   "metadata": {},
   "outputs": [],
   "source": [
    "#export\n",
    "class Predictor:\n",
    "    \"\"\"Wraps model with \"\"\"\n",
    "    \n",
    "    def __init__(self, model, device, batch_size: int=defaults.bs, loss_fn: 'callable'=None):\n",
    "        model.to(device).eval()\n",
    "        self.model = model\n",
    "        self.device = device\n",
    "        self.batch_size = batch_size\n",
    "        self.loss_fn = loss_fn\n",
    "    \n",
    "    @classmethod\n",
    "    def from_loop(cls, loop: Loop, on_device=None):\n",
    "        return cls(loop.model, on_device or loop.device, loss_fn=loop.loss_fn)\n",
    "    \n",
    "    def predict_tensor(self, X, **params):\n",
    "        y = torch.zeros(len(X)).long()\n",
    "        return self.predict(TensorDataset(X, y), **params)\n",
    "        \n",
    "    def predict(self, ds: Dataset, **params):\n",
    "        return self.predict_loader(DataLoader(ds, self.batch_size), **params)\n",
    "\n",
    "    def predict_loader(self, dl: DataLoader, with_gt: bool=False):\n",
    "        result, actual = [], []\n",
    "        for xb, yb in dl:\n",
    "            y_hat = self.model(xb.to(self.device))\n",
    "            result += from_torch(y_hat).tolist()\n",
    "            actual += from_torch(yb).tolist()\n",
    "        result, actual = [torch.tensor(x) for x in (result, actual)]\n",
    "        result = result.softmax(dim=1)\n",
    "        return (result, actual) if with_gt else result\n",
    "\n",
    "    def loss(self, ds, loss_fn=None):\n",
    "        loss_fn = loss_fn or self.loss_fn\n",
    "        if loss_fn is None:\n",
    "            raise ValueError('cannot compute loss if self.loss_fn is None')\n",
    "        results, gts = self.predict(ds, with_gt=True)\n",
    "        return loss_fn(results, gts)\n",
    "    \n",
    "    def loss_tensor(self, X, y, loss_fn=None):\n",
    "        return self.loss(TensorDataset(X, y), loss_fn)"
   ]
  },
  {
   "cell_type": "code",
   "execution_count": 5,
   "metadata": {},
   "outputs": [],
   "source": [
    "#export\n",
    "class ImageClassifier(Predictor):\n",
    "    \n",
    "    def predict_classes(self, ds: Dataset):\n",
    "        dl = DataLoader(ds, self.batch_size)\n",
    "        preds = self.predict_loader(dl)\n",
    "        classes = from_torch(preds.argmax(dim=-1))\n",
    "        return classes\n",
    "    \n",
    "    def show_predictions(self, ds: Dataset, n: int=4, shuffle: bool=True, **fig_kwargs):\n",
    "        total = n*n\n",
    "        idx = (np.random.choice(len(ds), size=total, replace=True) if shuffle else \n",
    "               np.arange(total))\n",
    "        data, labels = default_collate([ds[i] for i in idx])\n",
    "        classes = self.predict_classes(TensorDataset(data, labels))\n",
    "        f, axes = plt.subplots(n, n, **fig_kwargs)\n",
    "        for i in range(total):\n",
    "            ax = axes.flat[i]\n",
    "            ax.set_aspect('equal')\n",
    "            img, label = [from_torch(t) for t in (ds.data[idx[i]], labels[i])]\n",
    "            ax.imshow(img)\n",
    "            ax.set_title(f'model={classes[i]} / gt={label}')\n",
    "            ax.axis('off')"
   ]
  },
  {
   "cell_type": "code",
   "execution_count": 6,
   "metadata": {},
   "outputs": [
    {
     "name": "stdout",
     "output_type": "stream",
     "text": [
      "Epoch:    1 | train_loss=0.1519, train_acc=0.9231, valid_loss=0.1199, valid_acc=0.9587\n",
      "Epoch:    2 | train_loss=0.1223, train_acc=0.9657, valid_loss=0.0943, valid_acc=0.9697\n",
      "Epoch:    3 | train_loss=0.0748, train_acc=0.9739, valid_loss=0.0757, valid_acc=0.9736\n",
      "Early stopping at epoch 4 with valid_acc=0.9736\n"
     ]
    },
    {
     "data": {
      "text/plain": [
       "<matplotlib.axes._subplots.AxesSubplot at 0x7ff7ddb14b00>"
      ]
     },
     "execution_count": 6,
     "metadata": {},
     "output_type": "execute_result"
    },
    {
     "data": {
      "image/png": "[encoded data removed]",
      "text/plain": [
       "<Figure size 432x288 with 1 Axes>"
      ]
     },
     "metadata": {
      "needs_background": "light"
     },
     "output_type": "display_data"
    }
   ],
   "source": [
    "from pathlib import Path\n",
    "\n",
    "from torch.nn.functional import cross_entropy\n",
    "\n",
    "from loop.callbacks import Average\n",
    "from loop.early_stopping import EarlyStopping, ModelSaver\n",
    "from loop.metrics import accuracy\n",
    "from loop.testing import get_mnist\n",
    "from loop.modules import fc_network\n",
    "\n",
    "cbs = [\n",
    "    Average(accuracy, alias='acc'), \n",
    "    EarlyStopping(metric='acc', patience=1, better=max),\n",
    "    ModelSaver(mode='best', metric='acc', root=Path.home()/'models', better=max)\n",
    "]\n",
    "\n",
    "trn_ds, val_ds = get_mnist(flat=True)\n",
    "loop = Loop(fc_network(784, [100, 10]), cbs=cbs, loss_fn=cross_entropy)\n",
    "loop.fit_datasets(trn_ds, val_ds, epochs=10000, batch_size=100)\n",
    "loop.cb['model_saver'].load_last_saved_state()\n",
    "loop.cb['history'].plot()"
   ]
  },
  {
   "cell_type": "code",
   "execution_count": 7,
   "metadata": {},
   "outputs": [],
   "source": [
    "classifier = ImageClassifier.from_loop(loop, on_device='cpu')"
   ]
  },
  {
   "cell_type": "code",
   "execution_count": 8,
   "metadata": {},
   "outputs": [],
   "source": [
    "pred, gt = classifier.predict(val_ds, with_gt=True)"
   ]
  },
  {
   "cell_type": "code",
   "execution_count": 9,
   "metadata": {},
   "outputs": [],
   "source": [
    "assert accuracy(pred, gt) >= 0.97"
   ]
  },
  {
   "cell_type": "code",
   "execution_count": 10,
   "metadata": {},
   "outputs": [
    {
     "data": {
      "image/png": "[encoded data removed]",
      "text/plain": [
       "<Figure size 576x576 with 16 Axes>"
      ]
     },
     "metadata": {
      "needs_background": "light"
     },
     "output_type": "display_data"
    }
   ],
   "source": [
    "classifier.show_predictions(val_ds, figsize=(8, 8))"
   ]
  },
  {
   "cell_type": "code",
   "execution_count": null,
   "metadata": {},
   "outputs": [],
   "source": []
  }
 ],
 "metadata": {
  "kernelspec": {
   "display_name": "fastai (cuda 10)",
   "language": "python",
   "name": "fastai"
  },
  "language_info": {
   "codemirror_mode": {
    "name": "ipython",
    "version": 3
   },
   "file_extension": ".py",
   "mimetype": "text/x-python",
   "name": "python",
   "nbconvert_exporter": "python",
   "pygments_lexer": "ipython3",
   "version": "3.7.1"
  },
  "toc": {
   "base_numbering": 1,
   "nav_menu": {},
   "number_sections": true,
   "sideBar": true,
   "skip_h1_title": false,
   "title_cell": "Table of Contents",
   "title_sidebar": "Contents",
   "toc_cell": false,
   "toc_position": {},
   "toc_section_display": true,
   "toc_window_display": false
  }
 },
 "nbformat": 4,
 "nbformat_minor": 2
}

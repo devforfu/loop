{
 "cells": [
  {
   "cell_type": "code",
   "execution_count": 10,
   "metadata": {},
   "outputs": [],
   "source": [
    "#export\n",
    "import torch"
   ]
  },
  {
   "cell_type": "code",
   "execution_count": 12,
   "metadata": {},
   "outputs": [],
   "source": [
    "#export\n",
    "def accuracy(out: 'tensor', y_true: 'tensor') -> float:\n",
    "    out = torch.as_tensor(out).float()\n",
    "    y_true = torch.as_tensor(y_true).long()\n",
    "    y_hat = out.argmax(dim=-1).view(y_true.size(0), -1)\n",
    "    y_true = y_true.view(y_true.size(0), -1)\n",
    "    match = y_hat == y_true\n",
    "    return match.float().mean()"
   ]
  },
  {
   "cell_type": "code",
   "execution_count": 13,
   "metadata": {},
   "outputs": [],
   "source": [
    "t1 = torch.tensor([\n",
    "    [0.7, 0.1, 0.1, 0.1],\n",
    "    [0.1, 0.6, 0.2, 0.1],\n",
    "    [0.1, 0.2, 0.3, 0.2],\n",
    "    [0.2, 0.1, 0.1, 0.5]\n",
    "]).float()\n",
    "t2 = torch.tensor([0, 1, 2, 3]).long()\n",
    "assert accuracy(t1, t2) == 1"
   ]
  },
  {
   "cell_type": "code",
   "execution_count": 14,
   "metadata": {},
   "outputs": [],
   "source": [
    "import numpy as np\n",
    "t1 = np.array([\n",
    "    [0.7, 0.1, 0.1, 0.1],\n",
    "    [0.1, 0.6, 0.2, 0.1],\n",
    "    [0.1, 0.2, 0.3, 0.2],\n",
    "    [0.2, 0.1, 0.1, 0.5]\n",
    "], dtype=float)\n",
    "t2 = np.array([0, 1, 2, 3], dtype=int)\n",
    "assert accuracy(t1, t2) == 1"
   ]
  },
  {
   "cell_type": "code",
   "execution_count": null,
   "metadata": {},
   "outputs": [],
   "source": []
  }
 ],
 "metadata": {
  "kernelspec": {
   "display_name": "fastai (cuda 10)",
   "language": "python",
   "name": "fastai"
  },
  "language_info": {
   "codemirror_mode": {
    "name": "ipython",
    "version": 3
   },
   "file_extension": ".py",
   "mimetype": "text/x-python",
   "name": "python",
   "nbconvert_exporter": "python",
   "pygments_lexer": "ipython3",
   "version": "3.7.3"
  },
  "toc": {
   "base_numbering": 1,
   "nav_menu": {},
   "number_sections": true,
   "sideBar": true,
   "skip_h1_title": false,
   "title_cell": "Table of Contents",
   "title_sidebar": "Contents",
   "toc_cell": false,
   "toc_position": {},
   "toc_section_display": true,
   "toc_window_display": false
  }
 },
 "nbformat": 4,
 "nbformat_minor": 2
}

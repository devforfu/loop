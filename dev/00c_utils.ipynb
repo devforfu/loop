{
 "cells": [
  {
   "cell_type": "code",
   "execution_count": 22,
   "metadata": {},
   "outputs": [],
   "source": [
    "#export\n",
    "from collections import OrderedDict\n",
    "import math\n",
    "import re\n",
    "\n",
    "import numpy as np\n",
    "\n",
    "\n",
    "__all__ = ['default', 'merge_dicts', 'to_snake_case', 'pairs', 'classname',\n",
    "           'to_list', 'autoformat', 'is_scalar', 'broadcast', 'unwrap_if_single',\n",
    "           'from_torch']"
   ]
  },
  {
   "cell_type": "code",
   "execution_count": null,
   "metadata": {},
   "outputs": [],
   "source": [
    "#export\n",
    "def default(x, fallback=None):\n",
    "    return x if x is not None else fallback"
   ]
  },
  {
   "cell_type": "code",
   "execution_count": null,
   "metadata": {},
   "outputs": [],
   "source": [
    "#export\n",
    "def merge_dicts(ds):\n",
    "    \"\"\"Merges a list of dictionaries into single dictionary.\n",
    "    \n",
    "    The order of dicts in the list affects the values of keys in the\n",
    "    returned dict.\n",
    "    \"\"\"\n",
    "    merged = OrderedDict()\n",
    "    for d in ds:\n",
    "        for k, v in d.items():\n",
    "            merged[k] = v\n",
    "    return merged"
   ]
  },
  {
   "cell_type": "code",
   "execution_count": null,
   "metadata": {},
   "outputs": [],
   "source": [
    "#export\n",
    "def to_snake_case(string):\n",
    "    s = re.sub('(.)([A-Z][a-z]+)', r'\\1_\\2', string)\n",
    "    return re.sub('([a-z0-9])([A-Z])', r'\\1_\\2', s).lower()"
   ]
  },
  {
   "cell_type": "code",
   "execution_count": null,
   "metadata": {},
   "outputs": [],
   "source": [
    "#export\n",
    "def pairs(seq):\n",
    "    \"\"\"Returns list of adjacent pairs: [1, 2, 3] -> [(1, 2), (2, 3)].\"\"\"\n",
    "    yield from zip(seq[:-1], seq[1:])"
   ]
  },
  {
   "cell_type": "code",
   "execution_count": null,
   "metadata": {},
   "outputs": [],
   "source": [
    "#export\n",
    "def classname(x):\n",
    "    return x.__class__.__name__"
   ]
  },
  {
   "cell_type": "code",
   "execution_count": 17,
   "metadata": {},
   "outputs": [],
   "source": [
    "#export\n",
    "def to_list(obj):\n",
    "    \"\"\"Converts iterable into list or wraps a scalar value with list.\"\"\"\n",
    "    if isinstance(obj, str):\n",
    "        return [obj]\n",
    "    return list(obj) if hasattr(obj, '__len__') or hasattr(obj, '__next__') else [obj]"
   ]
  },
  {
   "cell_type": "code",
   "execution_count": 18,
   "metadata": {},
   "outputs": [],
   "source": [
    "def gen(x):\n",
    "    for i in range(x): yield i\n",
    "    \n",
    "assert to_list([1, 2, 3]) == [1, 2, 3]\n",
    "assert to_list((1, 2, 3)) == [1, 2, 3]\n",
    "assert to_list({'a': 1, 'b': 2, 'c': 3}) == ['a', 'b', 'c']\n",
    "assert to_list(1) == [1]\n",
    "assert to_list(gen(5)) == list(range(5))\n",
    "assert to_list('string') == ['string']"
   ]
  },
  {
   "cell_type": "code",
   "execution_count": 19,
   "metadata": {},
   "outputs": [],
   "source": [
    "#export\n",
    "def autoformat(v):\n",
    "    \"\"\"Tryies to convert value into a string using the best possible representation.\"\"\"\n",
    "    \n",
    "    return (f'{v:d}' if isinstance(v, (int, np.int16, np.int32, np.int64)) else\n",
    "            f'{v:.4f}' if isinstance(v, (float, np.float16, np.float32, np.float64)) else\n",
    "            f'{str(v)}')"
   ]
  },
  {
   "cell_type": "code",
   "execution_count": 25,
   "metadata": {},
   "outputs": [],
   "source": [
    "assert autoformat(1) == '1'\n",
    "assert autoformat(1.11111) == '1.1111'\n",
    "assert autoformat('string') == 'string'\n",
    "assert autoformat(np.float16(1)) == '1.0000'"
   ]
  },
  {
   "cell_type": "code",
   "execution_count": 28,
   "metadata": {},
   "outputs": [],
   "source": [
    "#export\n",
    "def is_scalar(obj):\n",
    "    return isinstance(obj, (int, float, str, complex))"
   ]
  },
  {
   "cell_type": "code",
   "execution_count": 29,
   "metadata": {},
   "outputs": [],
   "source": [
    "assert all(is_scalar(x) for x in (1, 1., 1j+0, 'string'))"
   ]
  },
  {
   "cell_type": "code",
   "execution_count": 30,
   "metadata": {},
   "outputs": [],
   "source": [
    "#export\n",
    "def broadcast(obj, pad=1):\n",
    "    \"\"\"Convenience function to unwrap collections and broadcast scalars.\"\"\"\n",
    "    if is_scalar(obj): \n",
    "        return [obj]*pad\n",
    "    return obj"
   ]
  },
  {
   "cell_type": "code",
   "execution_count": 31,
   "metadata": {},
   "outputs": [],
   "source": [
    "assert broadcast([1, 2, 3]) == [1, 2, 3]\n",
    "assert broadcast(1) == [1]"
   ]
  },
  {
   "cell_type": "code",
   "execution_count": null,
   "metadata": {},
   "outputs": [],
   "source": [
    "#export\n",
    "def unwrap_if_single(obj):\n",
    "    \"\"\"Converts obj collection into a scalar if it contains single element only.\"\"\"\n",
    "    return obj[0] if len(obj) == 1 else obj"
   ]
  },
  {
   "cell_type": "code",
   "execution_count": null,
   "metadata": {},
   "outputs": [],
   "source": [
    "assert unwrap_if_single([1]) == 1\n",
    "assert unwrap_i"
   ]
  },
  {
   "cell_type": "code",
   "execution_count": 4,
   "metadata": {},
   "outputs": [],
   "source": [
    "#export\n",
    "def from_torch(tensor):\n",
    "    \"\"\"Converts torch tensor into Numpy array or scalar.\"\"\"\n",
    "    obj = tensor.detach().cpu()\n",
    "    if not obj.shape:\n",
    "        return obj.item()\n",
    "    return obj.numpy()"
   ]
  },
  {
   "cell_type": "code",
   "execution_count": 7,
   "metadata": {},
   "outputs": [],
   "source": [
    "import torch\n",
    "import numpy as np\n",
    "assert np.allclose(from_torch(torch.tensor([1, 2, 3])), np.array([1, 2, 3]))"
   ]
  },
  {
   "cell_type": "code",
   "execution_count": 1,
   "metadata": {},
   "outputs": [],
   "source": [
    "#export\n",
    "def make_axis_if_needed(ax=None, **params):\n",
    "    \"\"\"Creates matplotlib axis but only if 'ax' is None.\"\"\"\n",
    "    if ax is None:\n",
    "        _, ax = plt.subplots(1, 1, **params)\n",
    "    return ax"
   ]
  },
  {
   "cell_type": "code",
   "execution_count": null,
   "metadata": {},
   "outputs": [],
   "source": [
    "#export\n",
    "def calculate_layout(num_axes, n_rows=None, n_cols=None):\n",
    "    \"\"\"Calculates number of rows/columns required to fit `num_axes` plots\n",
    "    onto figure if specific number of columns/rows is specified.\n",
    "    \"\"\"\n",
    "    if n_rows is not None and n_cols is not None:\n",
    "        raise ValueError(\n",
    "            'cannot derive number of rows/columns if both values provided')\n",
    "    if n_rows is None and n_cols is None:\n",
    "        n_cols = 2\n",
    "    if n_rows is None:\n",
    "        n_rows = max(1, math.ceil(num_axes / n_cols))\n",
    "    else:\n",
    "        n_cols = max(1, math.ceil(num_axes / n_rows))\n",
    "    return n_rows, n_cols"
   ]
  }
 ],
 "metadata": {
  "kernelspec": {
   "display_name": "fastai (cuda 10)",
   "language": "python",
   "name": "fastai"
  },
  "language_info": {
   "codemirror_mode": {
    "name": "ipython",
    "version": 3
   },
   "file_extension": ".py",
   "mimetype": "text/x-python",
   "name": "python",
   "nbconvert_exporter": "python",
   "pygments_lexer": "ipython3",
   "version": "3.7.1"
  },
  "toc": {
   "base_numbering": 1,
   "nav_menu": {},
   "number_sections": true,
   "sideBar": true,
   "skip_h1_title": false,
   "title_cell": "Table of Contents",
   "title_sidebar": "Contents",
   "toc_cell": false,
   "toc_position": {},
   "toc_section_display": true,
   "toc_window_display": false
  }
 },
 "nbformat": 4,
 "nbformat_minor": 2
}

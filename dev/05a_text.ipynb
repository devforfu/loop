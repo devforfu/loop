{
 "cells": [
  {
   "cell_type": "code",
   "execution_count": 25,
   "metadata": {},
   "outputs": [],
   "source": [
    "#export\n",
    "\"\"\"\n",
    "Text processing utils. Mostly copied from the fastai library.\n",
    "\n",
    "The utilities help to convert \"raw\" texts into formats more suitable for\n",
    "NLP models. The texts are cleaned and converted into list of tokens.\n",
    "\"\"\"\n",
    "import html\n",
    "import re\n",
    "\n",
    "import spacy\n",
    "from spacy.lang.en import English\n",
    "\n",
    "from loop.annotations import MaybeList, Callable\n",
    "from loop.utils import combine"
   ]
  },
  {
   "cell_type": "code",
   "execution_count": 2,
   "metadata": {},
   "outputs": [],
   "source": [
    "#export\n",
    "SEP    = '•'\n",
    "T_UP   = 'xxup'\n",
    "T_REP  = 'xxrep'\n",
    "T_WREP = 'xxwrep'\n",
    "T_MAJ  = 'xxmaj'\n",
    "T_BOS  = 'xxbos'\n",
    "T_EOS  = 'xxeos'\n",
    "T_FLD  = 'xxfld'\n",
    "T_UNK  = 'xxunk'\n",
    "T_PAD  = 'xxpad'\n",
    "TOKENS = [T_UP, T_REP, T_WREP, T_MAJ, T_BOS, T_EOS, T_FLD, T_UNK, T_PAD]"
   ]
  },
  {
   "cell_type": "code",
   "execution_count": 3,
   "metadata": {},
   "outputs": [],
   "source": [
    "#export\n",
    "def replace_tabs_with_spaces(s: str) -> str: return s.replace('\\t', ' ')"
   ]
  },
  {
   "cell_type": "code",
   "execution_count": 4,
   "metadata": {},
   "outputs": [],
   "source": [
    "assert replace_tabs_with_spaces('\\ttabs\\t') == ' tabs '\n",
    "assert replace_tabs_with_spaces('\\t\\t\\tmore tabs\\t\\t\\t') == '   more tabs   '\n",
    "assert replace_tabs_with_spaces('noop') == 'noop'"
   ]
  },
  {
   "cell_type": "code",
   "execution_count": 5,
   "metadata": {},
   "outputs": [],
   "source": [
    "#export\n",
    "def add_spaces_around(s: str) -> str: return re.sub(r'([/#\\n])', r' \\1 ', s)"
   ]
  },
  {
   "cell_type": "code",
   "execution_count": 6,
   "metadata": {},
   "outputs": [],
   "source": [
    "assert add_spaces_around('#') == ' # '\n",
    "assert add_spaces_around('\\n') == ' \\n '\n",
    "assert add_spaces_around('noop') == 'noop'"
   ]
  },
  {
   "cell_type": "code",
   "execution_count": 7,
   "metadata": {},
   "outputs": [],
   "source": [
    "#export\n",
    "def trim_useless_spaces(s: str) -> str: return re.sub(' {2,}', ' ', s)"
   ]
  },
  {
   "cell_type": "code",
   "execution_count": 8,
   "metadata": {},
   "outputs": [],
   "source": [
    "space = ' '\n",
    "assert all([trim_useless_spaces(space * i) == space for i in range (1, 11)])\n",
    "assert trim_useless_spaces(f'{space}word{space}') == f'{space}word{space}'\n",
    "assert trim_useless_spaces('noop') == 'noop'"
   ]
  },
  {
   "cell_type": "code",
   "execution_count": 9,
   "metadata": {},
   "outputs": [],
   "source": [
    "#export\n",
    "def replace_repeated_chars(s: str) -> str:\n",
    "    def _replace(match):\n",
    "        char, repeats = match.groups()\n",
    "        return f' {T_REP} {len(repeats) + 1} {char} '\n",
    "    regex = re.compile(r'(\\S)(\\1{3,})')\n",
    "    return regex.sub(_replace, s)"
   ]
  },
  {
   "cell_type": "code",
   "execution_count": 10,
   "metadata": {},
   "outputs": [],
   "source": [
    "assert replace_repeated_chars('aaaa') == f' {T_REP} 4 a '\n",
    "assert replace_repeated_chars('sooooo cooool') == f's {T_REP} 5 o  c {T_REP} 4 o l'\n",
    "assert replace_repeated_chars('noop') == 'noop'"
   ]
  },
  {
   "cell_type": "code",
   "execution_count": 11,
   "metadata": {},
   "outputs": [],
   "source": [
    "#export\n",
    "def replace_repeated_words(s: str) -> str:\n",
    "    def _replace(match):\n",
    "        word, repeats = match.groups()\n",
    "        return f' {T_WREP} {len(repeats.split()) + 1} {word} '\n",
    "    regex = re.compile(r'(\\b\\w+\\W+)(\\1{3,})')\n",
    "    return regex.sub(_replace, s)"
   ]
  },
  {
   "cell_type": "code",
   "execution_count": 12,
   "metadata": {},
   "outputs": [],
   "source": [
    "assert replace_repeated_words('one one one one one') == f' {T_WREP} 4 one  one'"
   ]
  },
  {
   "cell_type": "code",
   "execution_count": 13,
   "metadata": {},
   "outputs": [],
   "source": [
    "#export\n",
    "def fix_wikitext_special_cases(s: str) -> str:\n",
    "    regex = re.compile(r'  +')\n",
    "    s = (s.\n",
    "         replace('#39;',    \"'\").replace('amp;',    '&').replace('#146;', \"'\").\n",
    "         replace('nbsp;',   ' ').replace('#36;',    '$').replace('\\\\n',  \"\\n\").\n",
    "         replace('quot;',   \"'\").replace('<br />', \"\\n\").replace('\\\\\"',   '\"').\n",
    "         replace(' @.@ ',   '.').replace(' @-@ ',   '-').replace(' @,@ ', ',').\n",
    "         replace('\\\\',   ' \\\\ ').replace('<unk>', T_UNK))\n",
    "    return regex.sub(' ', html.unescape(s))"
   ]
  },
  {
   "cell_type": "code",
   "execution_count": 14,
   "metadata": {},
   "outputs": [],
   "source": [
    "#export\n",
    "def replace_capslock(tokens: list) -> list:\n",
    "    new = []\n",
    "    for token in tokens:\n",
    "        if token.isupper() and len(token) > 1:\n",
    "            new += [T_UP, token.lower()]\n",
    "        else:\n",
    "            new.append(token)\n",
    "    return new"
   ]
  },
  {
   "cell_type": "code",
   "execution_count": 15,
   "metadata": {},
   "outputs": [],
   "source": [
    "assert replace_capslock(['CAPSLOCK']) == [T_UP, 'capslock']"
   ]
  },
  {
   "cell_type": "code",
   "execution_count": 16,
   "metadata": {},
   "outputs": [],
   "source": [
    "#export\n",
    "def replace_capitalized(tokens: list) -> list:\n",
    "    new = []\n",
    "    for token in tokens:\n",
    "        if token == '':\n",
    "            continue\n",
    "        if token[0].isupper() and len(token) > 1 and token[1:].islower():\n",
    "            new.append(T_MAJ)\n",
    "        new.append(token.lower())\n",
    "    return new"
   ]
  },
  {
   "cell_type": "code",
   "execution_count": 17,
   "metadata": {},
   "outputs": [],
   "source": [
    "assert replace_capitalized(['Capitalized', 'Words']) == [T_MAJ, 'capitalized', T_MAJ, 'words']"
   ]
  },
  {
   "cell_type": "code",
   "execution_count": 18,
   "metadata": {},
   "outputs": [],
   "source": [
    "#export\n",
    "PREP_RULES = [\n",
    "    replace_tabs_with_spaces,\n",
    "    add_spaces_around,\n",
    "    trim_useless_spaces,\n",
    "    replace_repeated_chars,\n",
    "    replace_repeated_words,\n",
    "    fix_wikitext_special_cases,\n",
    "]\n",
    "\n",
    "POST_RULES = [\n",
    "    replace_capslock,\n",
    "    replace_capitalized\n",
    "]"
   ]
  },
  {
   "cell_type": "code",
   "execution_count": 27,
   "metadata": {},
   "outputs": [],
   "source": [
    "#export\n",
    "def tokenize(text: str, prep: MaybeList=None, post: MaybeList=None, \n",
    "             special: MaybeList=None, model_fn: Callable=English) -> list:\n",
    "    \"\"\"Convert text into list of tokens.\"\"\"\n",
    "    nlp = model_fn()\n",
    "    if special is not None:\n",
    "        for t in special:\n",
    "            nlp.tokenizer.add_special_case(t, [{spacy.symbols.ORTH: t}])\n",
    "    text = combine(text, *prep)\n",
    "    tokens = [token.text for token in nlp.make_doc(text)]\n",
    "    tokens = combine(tokens, *post)\n",
    "    return tokens"
   ]
  },
  {
   "cell_type": "code",
   "execution_count": 28,
   "metadata": {},
   "outputs": [],
   "source": [
    "#export\n",
    "def tokenize_english(text):\n",
    "    return tokenize(text, prep=PREP_RULES, post=POST_RULES, special=TOKENS)"
   ]
  },
  {
   "cell_type": "code",
   "execution_count": 34,
   "metadata": {},
   "outputs": [],
   "source": [
    "text = \"\"\"English text that should be tokenized.\n",
    "\n",
    "The text contains \"quoted names\", commas, dots. It also has some shortcuts, like \"doesn't\"\n",
    "and \"don't\", if you'd like. \n",
    "\n",
    "Also, we've SOME CAPSLOCK here.\n",
    "\"\"\"\n",
    "\n",
    "expected = [\n",
    "    T_MAJ, 'english', 'text', 'that', 'should', 'be', 'tokenized', '.', '\\n \\n ',\n",
    "    T_MAJ, 'the', 'text', 'contains', '\"', 'quoted', 'names', '\"', ',', 'commas',\n",
    "    ',', 'dots', '.',\n",
    "    T_MAJ, 'it', 'also', 'has', 'some', 'shortcuts', ',', 'like', '\"', 'does',\n",
    "    \"n't\", '\"', '\\n ', 'and', '\"', 'do', \"n't\", '\"', ',', 'if', 'you', \"'d\", 'like',\n",
    "    '.', '\\n \\n ',\n",
    "    T_MAJ, 'also', ',', 'we', \"'ve\", T_UP, 'some', T_UP, 'capslock', 'here', '.', '\\n '\n",
    "]\n",
    "\n",
    "assert tokenize_english(text) == expected"
   ]
  },
  {
   "cell_type": "code",
   "execution_count": 30,
   "metadata": {},
   "outputs": [
    {
     "data": {
      "text/plain": [
       "['xxmaj',\n",
       " 'english',\n",
       " 'text',\n",
       " 'that',\n",
       " 'should',\n",
       " 'be',\n",
       " 'tokenized',\n",
       " '.',\n",
       " '\\n \\n ',\n",
       " 'xxmaj',\n",
       " 'the',\n",
       " 'text',\n",
       " 'contains',\n",
       " '\"',\n",
       " 'quoted',\n",
       " 'names',\n",
       " '\"',\n",
       " ',',\n",
       " 'commas',\n",
       " ',',\n",
       " 'dots',\n",
       " '.',\n",
       " 'xxmaj',\n",
       " 'it',\n",
       " 'also',\n",
       " 'has',\n",
       " 'some',\n",
       " 'shortcuts',\n",
       " ',',\n",
       " 'like',\n",
       " '\"',\n",
       " 'does',\n",
       " \"n't\",\n",
       " '\"',\n",
       " '\\n ',\n",
       " 'and',\n",
       " '\"',\n",
       " 'do',\n",
       " \"n't\",\n",
       " '\"',\n",
       " ',',\n",
       " 'if',\n",
       " 'you',\n",
       " \"'d\",\n",
       " 'like',\n",
       " '.',\n",
       " '\\n \\n ',\n",
       " 'xxmaj',\n",
       " 'also',\n",
       " ',',\n",
       " 'we',\n",
       " \"'ve\",\n",
       " 'xxup',\n",
       " 'some',\n",
       " 'xxup',\n",
       " 'capslock',\n",
       " 'here',\n",
       " '.',\n",
       " '\\n ']"
      ]
     },
     "execution_count": 30,
     "metadata": {},
     "output_type": "execute_result"
    }
   ],
   "source": []
  },
  {
   "cell_type": "code",
   "execution_count": 21,
   "metadata": {},
   "outputs": [],
   "source": [
    "#export\n",
    "def useless_token(token, remove=('=', ' ')):\n",
    "    return token in remove"
   ]
  },
  {
   "cell_type": "code",
   "execution_count": 22,
   "metadata": {},
   "outputs": [],
   "source": [
    "#export\n",
    "def create_samples(tokens, eos=T_EOS, ignore=useless_token):\n",
    "    \"\"\"Splits list of tokens into samples using EOS tokens as delimiters.\"\"\"\n",
    "    samples, run = [], []\n",
    "    for token in tokens:\n",
    "        if ignore(token):\n",
    "            continue\n",
    "        run.append(token)\n",
    "        if token == eos:\n",
    "            samples.append(run)\n",
    "            run = []\n",
    "    if run:\n",
    "        samples.append(run)\n",
    "    return samples"
   ]
  },
  {
   "cell_type": "code",
   "execution_count": null,
   "metadata": {},
   "outputs": [],
   "source": [
    "#export\n",
    "def format_tokens(tokens): return SEP.join(tokens)"
   ]
  },
  {
   "cell_type": "code",
   "execution_count": null,
   "metadata": {},
   "outputs": [],
   "source": [
    "#export\n",
    "def print_tokens(tokens, n=500): print(format_tokens(tokens[:n]))"
   ]
  }
 ],
 "metadata": {
  "kernelspec": {
   "display_name": "fastai (cuda 10)",
   "language": "python",
   "name": "fastai"
  },
  "language_info": {
   "codemirror_mode": {
    "name": "ipython",
    "version": 3
   },
   "file_extension": ".py",
   "mimetype": "text/x-python",
   "name": "python",
   "nbconvert_exporter": "python",
   "pygments_lexer": "ipython3",
   "version": "3.7.1"
  },
  "toc": {
   "base_numbering": 1,
   "nav_menu": {},
   "number_sections": true,
   "sideBar": true,
   "skip_h1_title": false,
   "title_cell": "Table of Contents",
   "title_sidebar": "Contents",
   "toc_cell": false,
   "toc_position": {},
   "toc_section_display": true,
   "toc_window_display": false
  }
 },
 "nbformat": 4,
 "nbformat_minor": 2
}

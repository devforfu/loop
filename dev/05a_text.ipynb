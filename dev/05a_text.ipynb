{
 "cells": [
  {
   "cell_type": "code",
   "execution_count": null,
   "metadata": {},
   "outputs": [],
   "source": [
    "#export\n",
    "import html\n",
    "import re\n",
    "\n",
    "from loop.utils import combine"
   ]
  },
  {
   "cell_type": "code",
   "execution_count": null,
   "metadata": {},
   "outputs": [],
   "source": [
    "#export\n",
    "T_UP   = 'xxup'\n",
    "T_REP  = 'xxrep'\n",
    "T_WREP = 'xxwrep'\n",
    "T_MAJ  = 'xxmaj'\n",
    "T_BOS  = 'xxbos'\n",
    "T_EOS  = 'xxeos'\n",
    "T_FLD  = 'xxfld'\n",
    "T_UNK  = 'xxunk'\n",
    "T_PAD  = 'xxpad'\n",
    "TOKENS = [T_UP, T_REP, T_WREP, T_MAJ, T_BOS, T_EOS, T_FLD, T_UNK, T_PAD]"
   ]
  },
  {
   "cell_type": "code",
   "execution_count": null,
   "metadata": {},
   "outputs": [],
   "source": [
    "def replace_tabs_with_spaces(s): return s.replace('\\t', ' ')"
   ]
  },
  {
   "cell_type": "code",
   "execution_count": null,
   "metadata": {},
   "outputs": [],
   "source": [
    "def add_spaces_around(s): return re.sub(r'([/#\\n])', r' \\1 ', s)"
   ]
  },
  {
   "cell_type": "code",
   "execution_count": null,
   "metadata": {},
   "outputs": [],
   "source": [
    "def trim_useless_spaces(s): return re.sub(' {2,}', ' ', s)"
   ]
  },
  {
   "cell_type": "code",
   "execution_count": null,
   "metadata": {},
   "outputs": [],
   "source": [
    "def replace_repeated_chars(s):\n",
    "    def _replace(match):\n",
    "        char, repeats = match.groups()\n",
    "        return f' {T_REP} {len(repeats) + 1} {char} '\n",
    "    regex = re.compile(r'(\\S)(\\1{3,})')\n",
    "    return regex.sub(_replace, s)"
   ]
  },
  {
   "cell_type": "code",
   "execution_count": null,
   "metadata": {},
   "outputs": [],
   "source": [
    "def replace_repeated_words(s):\n",
    "    def _replace(match):\n",
    "        word, repeats = match.groups()\n",
    "        return f' {T_WREP} {len(repeats.split()) + 1} {word} '\n",
    "    regex = re.compile(r'(\\b\\w+\\W+)(\\1{3,})')\n",
    "    return regex.sub(_replace, s)"
   ]
  },
  {
   "cell_type": "code",
   "execution_count": null,
   "metadata": {},
   "outputs": [],
   "source": [
    "def fix_wikitext_special_cases(s):\n",
    "    regex = re.compile(r'  +')\n",
    "    s = (s.\n",
    "         replace('#39;',    \"'\").replace('amp;',    '&').replace('#146;', \"'\").\n",
    "         replace('nbsp;',   ' ').replace('#36;',    '$').replace('\\\\n',  \"\\n\").\n",
    "         replace('quot;',   \"'\").replace('<br />', \"\\n\").replace('\\\\\"',   '\"').\n",
    "         replace(' @.@ ',   '.').replace(' @-@ ',   '-').replace(' @,@ ', ',').\n",
    "         replace('\\\\',   ' \\\\ ').replace('<unk>', T_UNK))\n",
    "    return regex.sub(' ', html.unescape(s))"
   ]
  },
  {
   "cell_type": "code",
   "execution_count": null,
   "metadata": {},
   "outputs": [],
   "source": [
    "def replace_capslock(tokens):\n",
    "    new = []\n",
    "    for token in tokens:\n",
    "        if token.isupper() and len(token) > 1:\n",
    "            new += [T_UP, token.lower()]\n",
    "        else:\n",
    "            new.append(token)\n",
    "    return new"
   ]
  },
  {
   "cell_type": "code",
   "execution_count": null,
   "metadata": {},
   "outputs": [],
   "source": [
    "def replace_capitalized(tokens):\n",
    "    new = []\n",
    "    for token in tokens:\n",
    "        if token == '':\n",
    "            continue\n",
    "        if token[0].isupper() and len(token) > 1 and token[1:].islower():\n",
    "            new.append(T_MAJ)\n",
    "        new.append(token.lower())\n",
    "    return new"
   ]
  }
 ],
 "metadata": {
  "kernelspec": {
   "display_name": "fastai (cuda 10)",
   "language": "python",
   "name": "fastai"
  },
  "language_info": {
   "codemirror_mode": {
    "name": "ipython",
    "version": 3
   },
   "file_extension": ".py",
   "mimetype": "text/x-python",
   "name": "python",
   "nbconvert_exporter": "python",
   "pygments_lexer": "ipython3",
   "version": "3.7.1"
  },
  "toc": {
   "base_numbering": 1,
   "nav_menu": {},
   "number_sections": true,
   "sideBar": true,
   "skip_h1_title": false,
   "title_cell": "Table of Contents",
   "title_sidebar": "Contents",
   "toc_cell": false,
   "toc_position": {},
   "toc_section_display": true,
   "toc_window_display": false
  }
 },
 "nbformat": 4,
 "nbformat_minor": 2
}

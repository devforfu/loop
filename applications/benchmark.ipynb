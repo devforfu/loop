{
 "cells": [
  {
   "cell_type": "markdown",
   "metadata": {},
   "source": [
    "# Training Models on Classical Datasets"
   ]
  },
  {
   "cell_type": "markdown",
   "metadata": {},
   "source": [
    "In this notebook, the classes and utils from the `loop` package are used to train simple models on various \"classical\" computer vision datasets. It is intended to be used as a benchmark showing the quality of the training loop. The reference results are taken from this [leaderboard](http://rodrigob.github.io/are_we_there_yet/build/classification_datasets_results.html)."
   ]
  },
  {
   "cell_type": "markdown",
   "metadata": {},
   "source": [
    "# Imports"
   ]
  },
  {
   "cell_type": "code",
   "execution_count": 1,
   "metadata": {},
   "outputs": [],
   "source": [
    "%matplotlib inline\n",
    "%reload_ext autoreload\n",
    "%autoreload 2"
   ]
  },
  {
   "cell_type": "code",
   "execution_count": 2,
   "metadata": {},
   "outputs": [],
   "source": [
    "from functools import partial\n",
    "import sys\n",
    "from pathlib import Path\n",
    "import warnings\n",
    "\n",
    "try:\n",
    "    old_path\n",
    "except NameError:\n",
    "    old_path = sys.path.copy()\n",
    "    sys.path = [Path.cwd().parent.as_posix()] + old_path\n",
    "    \n",
    "warnings.simplefilter('ignore', category=Warning)"
   ]
  },
  {
   "cell_type": "code",
   "execution_count": 3,
   "metadata": {},
   "outputs": [],
   "source": [
    "import matplotlib.pyplot as plt\n",
    "import numpy as np\n",
    "import pandas as pd\n",
    "\n",
    "import torch\n",
    "from torch import nn\n",
    "from torch import optim\n",
    "from torch.nn import functional as F\n",
    "from torchvision import models\n",
    "from torchvision import transforms as T\n",
    "from torchvision.datasets import MNIST, CIFAR10\n",
    "from torchvision.models import resnet18, resnet34\n",
    "\n",
    "from loop import find_lr, train, train_classifier, make_phases\n",
    "from loop import callbacks as C\n",
    "from loop import plot\n",
    "from loop.config import defaults\n",
    "from loop.optimizers.adamw import AdamW\n",
    "from loop.schedule import OneCycleSchedule\n",
    "from loop.torch_helpers.modules import tiny_classifier, FineTunedModel\n",
    "from loop.torch_helpers.utils import freeze_status"
   ]
  },
  {
   "cell_type": "code",
   "execution_count": 4,
   "metadata": {},
   "outputs": [],
   "source": [
    "def data_path(name, root=Path('~/data')):\n",
    "    return root.expanduser()/name"
   ]
  },
  {
   "cell_type": "code",
   "execution_count": 5,
   "metadata": {},
   "outputs": [],
   "source": [
    "defaults.device = torch.device('cuda:1')\n",
    "mnist_stats = ([0.15]*3, [0.15]*3)\n",
    "imagenet_stats = ([0.485, 0.456, 0.406], [0.229, 0.224, 0.225])"
   ]
  },
  {
   "cell_type": "markdown",
   "metadata": {},
   "source": [
    "# Datasets Benchmark\n",
    "\n",
    "## MNIST: Simple Network\n",
    "\n",
    "The very first benchmark is running the training loop against ubiquitious MNIST dataset. The first entries from the aforementioned leaderboard look like this:\n",
    "\n",
    "|Error|Method|Venue|\n",
    "|-----|------|-----|\n",
    "|0.21%|Regularization of Neural Networks using DropConnect|ICML 2013|\n",
    "|0.23%|Multi-column Deep Neural Networks for Image Classiﬁcation|CVPR 2012|\n",
    "|0.23%|APAC: Augmented PAttern Classification with Neural Networks|arXiv 2015|\n",
    "|0.24%|Batch-normalized Maxout Network in Network|arXiv 2015|\n",
    "\n",
    "In other words, the best results nowadays are around `99.7%` of accuracy. Let's see if we can get close to these values. We're going to use `torchvision` package to simplify data loading and preparation process. Next, we create the training phases to track metrics and wrap datasets into data loaders. Finally, we create a list of callbacks and initialize the optimizer.\n"
   ]
  },
  {
   "cell_type": "code",
   "execution_count": 6,
   "metadata": {},
   "outputs": [],
   "source": [
    "root = data_path('mnist')\n",
    "\n",
    "train_ds = MNIST(\n",
    "    root, train=True, download=True,\n",
    "    transform=T.Compose([T.Resize(32),\n",
    "                         T.RandomAffine(5, translate=(0.05, 0.05), scale=(0.9, 1.2)),\n",
    "                         T.ToTensor(), \n",
    "                         T.Normalize(*mnist_stats)]))\n",
    "\n",
    "valid_ds = MNIST(\n",
    "    root, train=False, download=True,\n",
    "    transform=T.Compose([T.Resize(32),\n",
    "                         T.ToTensor(), \n",
    "                         T.Normalize(*mnist_stats)]))\n",
    "\n",
    "phases = make_phases(train_ds, valid_ds, batch_size=1024, num_workers=(12, 4))\n",
    "\n",
    "cb = C.CallbacksGroup([\n",
    "    C.Accuracy(),\n",
    "    C.RollingLoss(),\n",
    "    C.History(),\n",
    "    C.MemoryUsage(),\n",
    "    C.StreamLogger(),\n",
    "    C.ProgressBar(),\n",
    "    C.Scheduler(\n",
    "        OneCycleSchedule(\n",
    "            t=len(phases[0].loader) * 3,\n",
    "            linear_pct=0.3,\n",
    "            eta_max=1.0,\n",
    "            div_factor=25\n",
    "        ),\n",
    "        mode='batch',\n",
    "        params_conf=[\n",
    "            {'name': 'lr'},\n",
    "            {'name': 'weight_decay', 'inverse': True}\n",
    "        ]\n",
    "    )\n",
    "])\n",
    "\n",
    "model = tiny_classifier(n_channels=1, n_out=10)\n",
    "opt = AdamW(model.parameters(), lr=1e-2, weight_decay=1e-2)"
   ]
  },
  {
   "cell_type": "code",
   "execution_count": 7,
   "metadata": {},
   "outputs": [
    {
     "data": {
      "application/vnd.jupyter.widget-view+json": {
       "model_id": "2effcd46ea9343628e2bc75f94276ea2",
       "version_major": 2,
       "version_minor": 0
      },
      "text/plain": [
       "HBox(children=(IntProgress(value=0, description='train', max=59), HTML(value='')))"
      ]
     },
     "metadata": {},
     "output_type": "display_data"
    },
    {
     "data": {
      "application/vnd.jupyter.widget-view+json": {
       "model_id": "ba444778d2f541d4b16b8ec187bc1b25",
       "version_major": 2,
       "version_minor": 0
      },
      "text/plain": [
       "HBox(children=(IntProgress(value=0, description='valid', max=10), HTML(value='')))"
      ]
     },
     "metadata": {},
     "output_type": "display_data"
    },
    {
     "name": "stdout",
     "output_type": "stream",
     "text": [
      "Epoch:    1 | train_loss=1.0581, train_accuracy=0.5663, valid_loss=0.1261, valid_accuracy=0.9640\n",
      "Epoch:    2 | train_loss=0.6072, train_accuracy=0.8509, valid_loss=0.1004, valid_accuracy=0.9772\n",
      "Epoch:    3 | train_loss=0.4728, train_accuracy=0.8823, valid_loss=0.1147, valid_accuracy=0.9749\n",
      "\n",
      "\n"
     ]
    }
   ],
   "source": [
    "train(model, opt, phases, cb, epochs=3)"
   ]
  },
  {
   "cell_type": "markdown",
   "metadata": {},
   "source": [
    "We're getting more than `97%` of accuracy after training the model for 3 epochs only, and we doing it from scratch using a very simple architecture. Therefore, we could suppose that our training loop works correctly."
   ]
  },
  {
   "cell_type": "markdown",
   "metadata": {},
   "source": [
    "## MNIST: Pretrained and Augmented\n",
    "\n",
    "Could we improve our results with a pretrained model and with applying some data augmentation techniques? Let's make a try and see. \n",
    "\n",
    "But first of all, we need to make our dataset samples ready to pass into the pretrained model. Most of the pretrained networks are trained on the ImageNet dataset which consists of colored images, i.e., the images with 3 channels. However, the MNIST dataset consists of grayscale images with single channel. To make it compatible with the model we're going to use, we need to convert these 1-channel images into 3-channel images. The most straightforward way to do so is to duplicate the original channel three times. The `ExpandChannels` class does exactly this."
   ]
  },
  {
   "cell_type": "code",
   "execution_count": 8,
   "metadata": {},
   "outputs": [],
   "source": [
    "class ExpandChannels:\n",
    "    \n",
    "    def __init__(self, num_of_channels=3):\n",
    "        self.nc = num_of_channels\n",
    "    \n",
    "    def __call__(self, x):\n",
    "        return x.expand((self.nc,) + x.shape[1:])"
   ]
  },
  {
   "cell_type": "markdown",
   "metadata": {},
   "source": [
    "Also, this time we don't create the callbacks explicitly but using a convenience `train_classifier` function that adds required callbacks for us. "
   ]
  },
  {
   "cell_type": "code",
   "execution_count": 9,
   "metadata": {},
   "outputs": [],
   "source": [
    "image_size = 128\n",
    "\n",
    "train_ds = MNIST(\n",
    "    root, train=True, download=True,\n",
    "    transform=T.Compose([T.Resize(image_size),\n",
    "                         T.Pad(4, padding_mode='reflect'),\n",
    "                         T.RandomAffine(5, translate=(0.05, 0.05), scale=(0.9, 1.2)),\n",
    "                         T.RandomResizedCrop(image_size, scale=(0.8, 1.2)),\n",
    "                         T.ToTensor(), \n",
    "                         ExpandChannels(3),\n",
    "                         T.Normalize(*imagenet_stats)]))\n",
    "\n",
    "valid_ds = MNIST(\n",
    "    root, train=False, download=True,\n",
    "    transform=T.Compose([T.Resize(image_size),\n",
    "                         T.ToTensor(), \n",
    "                         ExpandChannels(3),\n",
    "                         T.Normalize(*imagenet_stats)]))\n",
    "\n",
    "model = FineTunedModel(n_out=10, arch=resnet18)\n",
    "opt = AdamW(model.parameters(), lr=1e-2, weight_decay=1e-2)"
   ]
  },
  {
   "cell_type": "markdown",
   "metadata": {},
   "source": [
    "Notice that by default, the fine-tuned model \"freezes\" backbone layers, and trains custom top layers only:"
   ]
  },
  {
   "cell_type": "code",
   "execution_count": 10,
   "metadata": {
    "scrolled": true
   },
   "outputs": [
    {
     "name": "stdout",
     "output_type": "stream",
     "text": [
      "Layers status\n",
      "--------------------------------------------------------------------------------\n",
      "Conv2d                                                                  [frozen]\n",
      "BatchNorm2d                                                             [frozen]\n",
      "ReLU                                                                    [-     ]\n",
      "MaxPool2d                                                               [-     ]\n",
      "Conv2d                                                                  [frozen]\n",
      "BatchNorm2d                                                             [frozen]\n",
      "ReLU                                                                    [-     ]\n",
      "Conv2d                                                                  [frozen]\n",
      "BatchNorm2d                                                             [frozen]\n",
      "Conv2d                                                                  [frozen]\n",
      "BatchNorm2d                                                             [frozen]\n",
      "ReLU                                                                    [-     ]\n",
      "Conv2d                                                                  [frozen]\n",
      "BatchNorm2d                                                             [frozen]\n",
      "Conv2d                                                                  [frozen]\n",
      "BatchNorm2d                                                             [frozen]\n",
      "ReLU                                                                    [-     ]\n",
      "Conv2d                                                                  [frozen]\n",
      "BatchNorm2d                                                             [frozen]\n",
      "Conv2d                                                                  [frozen]\n",
      "BatchNorm2d                                                             [frozen]\n",
      "Conv2d                                                                  [frozen]\n",
      "BatchNorm2d                                                             [frozen]\n",
      "ReLU                                                                    [-     ]\n",
      "Conv2d                                                                  [frozen]\n",
      "BatchNorm2d                                                             [frozen]\n",
      "Conv2d                                                                  [frozen]\n",
      "BatchNorm2d                                                             [frozen]\n",
      "ReLU                                                                    [-     ]\n",
      "Conv2d                                                                  [frozen]\n",
      "BatchNorm2d                                                             [frozen]\n",
      "Conv2d                                                                  [frozen]\n",
      "BatchNorm2d                                                             [frozen]\n",
      "Conv2d                                                                  [frozen]\n",
      "BatchNorm2d                                                             [frozen]\n",
      "ReLU                                                                    [-     ]\n",
      "Conv2d                                                                  [frozen]\n",
      "BatchNorm2d                                                             [frozen]\n",
      "Conv2d                                                                  [frozen]\n",
      "BatchNorm2d                                                             [frozen]\n",
      "ReLU                                                                    [-     ]\n",
      "Conv2d                                                                  [frozen]\n",
      "BatchNorm2d                                                             [frozen]\n",
      "Conv2d                                                                  [frozen]\n",
      "BatchNorm2d                                                             [frozen]\n",
      "Conv2d                                                                  [frozen]\n",
      "BatchNorm2d                                                             [frozen]\n",
      "ReLU                                                                    [-     ]\n",
      "Conv2d                                                                  [frozen]\n",
      "BatchNorm2d                                                             [frozen]\n",
      "AdaptiveAvgPool2d                                                       [-     ]\n",
      "AdaptiveMaxPool2d                                                       [-     ]\n",
      "Flatten                                                                 [-     ]\n",
      "BatchNorm1d                                                             [ok    ]\n",
      "Linear                                                                  [ok    ]\n",
      "Dropout                                                                 [-     ]\n",
      "LeakyReLU                                                               [-     ]\n",
      "BatchNorm1d                                                             [ok    ]\n",
      "Linear                                                                  [ok    ]\n",
      "Dropout                                                                 [-     ]\n",
      "LeakyReLU                                                               [-     ]\n",
      "Linear                                                                  [ok    ]\n"
     ]
    }
   ],
   "source": [
    "freeze_status(model)"
   ]
  },
  {
   "cell_type": "markdown",
   "metadata": {},
   "source": [
    "This time we also change a scheduling function from cosine annealing to one-cycle policy to see if we could also get a better result with a different scheduling function."
   ]
  },
  {
   "cell_type": "code",
   "execution_count": 11,
   "metadata": {},
   "outputs": [
    {
     "data": {
      "application/vnd.jupyter.widget-view+json": {
       "model_id": "56107046ccb64e9eb13a1a1b618b37d3",
       "version_major": 2,
       "version_minor": 0
      },
      "text/plain": [
       "HBox(children=(IntProgress(value=0, description='train', max=118), HTML(value='')))"
      ]
     },
     "metadata": {},
     "output_type": "display_data"
    },
    {
     "data": {
      "application/vnd.jupyter.widget-view+json": {
       "model_id": "ea513ae251164a37ad9b176813067509",
       "version_major": 2,
       "version_minor": 0
      },
      "text/plain": [
       "HBox(children=(IntProgress(value=0, description='valid', max=20), HTML(value='')))"
      ]
     },
     "metadata": {},
     "output_type": "display_data"
    },
    {
     "name": "stdout",
     "output_type": "stream",
     "text": [
      "Epoch:    1 | train_loss=0.4254, train_accuracy=0.8458, valid_loss=0.3723, valid_accuracy=0.9347\n",
      "Epoch:    2 | train_loss=0.3216, train_accuracy=0.8943, valid_loss=0.2614, valid_accuracy=0.9373\n",
      "Epoch:    3 | train_loss=0.2957, train_accuracy=0.9214, valid_loss=0.2799, valid_accuracy=0.9449\n",
      "\n",
      "\n"
     ]
    }
   ],
   "source": [
    "results = train_classifier(model, opt, (train_ds, valid_ds), \n",
    "                           epochs=3, batch_size=512,\n",
    "                           schedule_params={\n",
    "                               'schedule': 'cos_anneal', \n",
    "                               'schedule_config': {'eta_min': 0.1}},\n",
    "                           num_workers=(12, 4))"
   ]
  },
  {
   "cell_type": "markdown",
   "metadata": {},
   "source": [
    "To verify that our scheduling callback actually changes the learning rate and weight decay parameters accoriding to the cosine annealing schedule, we can plot the history of parameters values as follows:"
   ]
  },
  {
   "cell_type": "code",
   "execution_count": 12,
   "metadata": {},
   "outputs": [
    {
     "data": {
      "text/plain": [
       "<matplotlib.axes._subplots.AxesSubplot at 0x7ff8407084e0>"
      ]
     },
     "execution_count": 12,
     "metadata": {},
     "output_type": "execute_result"
    },
    {
     "data": {
      "image/png": "[encoded data removed]",
      "text/plain": [
       "<Figure size 432x288 with 1 Axes>"
      ]
     },
     "metadata": {
      "needs_background": "light"
     },
     "output_type": "display_data"
    }
   ],
   "source": [
    "pd.DataFrame(results['callbacks']['scheduler'].parameter_history('lr', 'weight_decay')).plot()"
   ]
  },
  {
   "cell_type": "markdown",
   "metadata": {},
   "source": [
    "The results are promising but not as good as our simplistic model. Let's see what can we get if unfreeze the backbone layers and train the model with differential learning rates:"
   ]
  },
  {
   "cell_type": "code",
   "execution_count": 13,
   "metadata": {},
   "outputs": [],
   "source": [
    "torch.save(model, 'frozen.model')"
   ]
  },
  {
   "cell_type": "code",
   "execution_count": 17,
   "metadata": {},
   "outputs": [],
   "source": [
    "model = torch.load('frozen.model')"
   ]
  },
  {
   "cell_type": "code",
   "execution_count": 18,
   "metadata": {},
   "outputs": [],
   "source": [
    "model.freeze_backbone(False)\n",
    "opt = AdamW([\n",
    "    {'params': model.backbone.parameters(), 'lr': 1e-4, 'weigth_decay': 1e-5},\n",
    "    {'params': model.top.parameters(), 'lr': 1e-3, 'weigth_decay': 1e-3}\n",
    "])"
   ]
  },
  {
   "cell_type": "code",
   "execution_count": 19,
   "metadata": {},
   "outputs": [
    {
     "data": {
      "application/vnd.jupyter.widget-view+json": {
       "model_id": "0152404faeb341b8adc23572abefb246",
       "version_major": 2,
       "version_minor": 0
      },
      "text/plain": [
       "HBox(children=(IntProgress(value=0, description='train', max=118), HTML(value='')))"
      ]
     },
     "metadata": {},
     "output_type": "display_data"
    },
    {
     "data": {
      "application/vnd.jupyter.widget-view+json": {
       "model_id": "d57252af79d043a88a6870ab0685beb1",
       "version_major": 2,
       "version_minor": 0
      },
      "text/plain": [
       "HBox(children=(IntProgress(value=0, description='valid', max=20), HTML(value='')))"
      ]
     },
     "metadata": {},
     "output_type": "display_data"
    },
    {
     "name": "stdout",
     "output_type": "stream",
     "text": [
      "Epoch:    1 | train_loss=0.0507, train_accuracy=0.9789, valid_loss=0.0209, valid_accuracy=0.9931\n"
     ]
    }
   ],
   "source": [
    "results = train_classifier(model, opt, (train_ds, valid_ds), \n",
    "                           epochs=1, batch_size=512,\n",
    "                           schedule_params={'schedule': 'one_cycle'},\n",
    "                           num_workers=(12, 4))"
   ]
  },
  {
   "cell_type": "markdown",
   "metadata": {},
   "source": [
    "We're getting even closer the top entries of the scoreboard! It seems that our training loop and schedulers help us go in a right direction."
   ]
  },
  {
   "cell_type": "markdown",
   "metadata": {},
   "source": [
    "## CIFAR10\n",
    "\n",
    "The CIFAR10 dataset is a more challenging task. Though modern deep learning architectures are capable to show quite good results even in this case. Therefore, it is also a good candidate to check how well performs the written code.\n",
    "\n",
    "The process is the same as for MNIST:\n",
    "\n",
    "1. Create datasets and data loaders\n",
    "2. Initialize optimizer and schedulers\n",
    "3. Start the training process "
   ]
  },
  {
   "cell_type": "code",
   "execution_count": 30,
   "metadata": {},
   "outputs": [
    {
     "name": "stdout",
     "output_type": "stream",
     "text": [
      "Files already downloaded and verified\n",
      "Files already downloaded and verified\n"
     ]
    }
   ],
   "source": [
    "root = data_path('cifar10')\n",
    "\n",
    "image_size = 224\n",
    "\n",
    "train_ds = CIFAR10(\n",
    "    root, train=True, download=True,\n",
    "    transform=T.Compose([T.Resize(image_size),\n",
    "                         T.Pad(8, padding_mode='reflect'),\n",
    "                         T.RandomAffine(5, translate=(0.05, 0.05), scale=(0.8, 1.2)),\n",
    "                         T.RandomResizedCrop(image_size, scale=(0.8, 1.1)),\n",
    "                         T.RandomHorizontalFlip(),\n",
    "                         T.ToTensor(), \n",
    "                         T.Normalize(*imagenet_stats)]))\n",
    "\n",
    "valid_ds = CIFAR10(\n",
    "    root, train=False, download=True,\n",
    "    transform=T.Compose([T.Resize(image_size),\n",
    "                         T.ToTensor(), \n",
    "                         T.Normalize(*imagenet_stats)]))\n",
    "\n",
    "model = FineTunedModel(n_out=10, arch=resnet34)"
   ]
  },
  {
   "cell_type": "code",
   "execution_count": 25,
   "metadata": {},
   "outputs": [
    {
     "data": {
      "application/vnd.jupyter.widget-view+json": {
       "model_id": "1bf091b0862c452f9fa0f3101b9ccb36",
       "version_major": 2,
       "version_minor": 0
      },
      "text/plain": [
       "HBox(children=(IntProgress(value=0, description='lr_finder', max=49), HTML(value='')))"
      ]
     },
     "metadata": {},
     "output_type": "display_data"
    }
   ],
   "source": [
    "opt = AdamW(model.parameters())\n",
    "lrs, losses = find_lr(model, opt, train_ds, batch_size=1024, loss_fn=F.cross_entropy)"
   ]
  },
  {
   "cell_type": "code",
   "execution_count": 26,
   "metadata": {},
   "outputs": [
    {
     "data": {
      "image/png": "[encoded data removed]",
      "text/plain": [
       "<Figure size 720x576 with 1 Axes>"
      ]
     },
     "metadata": {
      "needs_background": "light"
     },
     "output_type": "display_data"
    }
   ],
   "source": [
    "plot.lr_loss_curve(lrs, losses)"
   ]
  },
  {
   "cell_type": "code",
   "execution_count": null,
   "metadata": {},
   "outputs": [],
   "source": [
    "opt = AdamW(model.parameters(), lr=1e-3, weight_decay=1e-2)\n",
    "results = train_classifier(model, opt, (train_ds, valid_ds), \n",
    "                           epochs=20, batch_size=1024, num_workers=12)"
   ]
  }
 ],
 "metadata": {
  "kernelspec": {
   "display_name": "Python 3",
   "language": "python",
   "name": "python3"
  },
  "language_info": {
   "codemirror_mode": {
    "name": "ipython",
    "version": 3
   },
   "file_extension": ".py",
   "mimetype": "text/x-python",
   "name": "python",
   "nbconvert_exporter": "python",
   "pygments_lexer": "ipython3",
   "version": "3.7.1"
  },
  "toc": {
   "base_numbering": 1,
   "nav_menu": {},
   "number_sections": true,
   "sideBar": true,
   "skip_h1_title": false,
   "title_cell": "Table of Contents",
   "title_sidebar": "Contents",
   "toc_cell": false,
   "toc_position": {},
   "toc_section_display": true,
   "toc_window_display": false
  }
 },
 "nbformat": 4,
 "nbformat_minor": 2
}
